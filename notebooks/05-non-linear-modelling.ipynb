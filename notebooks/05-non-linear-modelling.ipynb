{
 "cells": [
  {
   "cell_type": "markdown",
   "metadata": {},
   "source": [
    "# Modelling"
   ]
  },
  {
   "cell_type": "markdown",
   "metadata": {},
   "source": [
    "## Notebook Summary"
   ]
  },
  {
   "cell_type": "markdown",
   "metadata": {},
   "source": [
    "Implementations:\n",
    "- Decision Tree Regressor\n",
    "- Random Forest Regressor"
   ]
  },
  {
   "cell_type": "markdown",
   "metadata": {},
   "source": [
    "## Notebook Setup"
   ]
  },
  {
   "cell_type": "code",
   "execution_count": 11,
   "metadata": {},
   "outputs": [],
   "source": [
    "# Standard imports\n",
    "import math\n",
    "import numpy as np\n",
    "import pandas as pd\n",
    "import matplotlib.pyplot as plt\n",
    "import plotly.graph_objects as go\n",
    "\n",
    "# Loading sklearn functionality\n",
    "from sklearn.linear_model import Lasso, Ridge, LinearRegression\n",
    "from sklearn.model_selection import train_test_split, GridSearchCV\n",
    "from sklearn.preprocessing import LabelEncoder, OneHotEncoder, OrdinalEncoder, StandardScaler, MinMaxScaler\n",
    "from sklearn.feature_selection import SelectKBest, VarianceThreshold, f_classif, f_regression\n",
    "from sklearn.pipeline import make_pipeline\n",
    "from sklearn.ensemble import RandomForestRegressor\n",
    "from sklearn.tree import DecisionTreeRegressor, plot_tree\n",
    "from sklearn.inspection import DecisionBoundaryDisplay\n",
    "from sklearn.metrics import r2_score, mean_absolute_error, mean_squared_error\n",
    "\n",
    "# Set global random seed for reproducibility\n",
    "random_seed_val = 42\n",
    "np.random.seed(random_seed_val)"
   ]
  },
  {
   "cell_type": "markdown",
   "metadata": {},
   "source": [
    "## Data loading"
   ]
  },
  {
   "cell_type": "code",
   "execution_count": 2,
   "metadata": {},
   "outputs": [
    {
     "data": {
      "text/html": [
       "<div>\n",
       "<style scoped>\n",
       "    .dataframe tbody tr th:only-of-type {\n",
       "        vertical-align: middle;\n",
       "    }\n",
       "\n",
       "    .dataframe tbody tr th {\n",
       "        vertical-align: top;\n",
       "    }\n",
       "\n",
       "    .dataframe thead th {\n",
       "        text-align: right;\n",
       "    }\n",
       "</style>\n",
       "<table border=\"1\" class=\"dataframe\">\n",
       "  <thead>\n",
       "    <tr style=\"text-align: right;\">\n",
       "      <th></th>\n",
       "      <th>latitude</th>\n",
       "      <th>longitude</th>\n",
       "      <th>bathrooms</th>\n",
       "      <th>bedrooms</th>\n",
       "      <th>floorAreaSqM</th>\n",
       "      <th>livingRooms</th>\n",
       "      <th>saleEstimate_currentPrice</th>\n",
       "      <th>tenure_Feudal</th>\n",
       "      <th>tenure_Freehold</th>\n",
       "      <th>tenure_Leasehold</th>\n",
       "      <th>...</th>\n",
       "      <th>propertyType_Mid Terrace House</th>\n",
       "      <th>propertyType_Mid Terrace Property</th>\n",
       "      <th>propertyType_Purpose Built Flat</th>\n",
       "      <th>propertyType_Semi-Detached Bungalow</th>\n",
       "      <th>propertyType_Semi-Detached House</th>\n",
       "      <th>propertyType_Semi-Detached Property</th>\n",
       "      <th>propertyType_Terrace Property</th>\n",
       "      <th>propertyType_Terraced</th>\n",
       "      <th>propertyType_Terraced Bungalow</th>\n",
       "      <th>currentEnergyRating_encoded</th>\n",
       "    </tr>\n",
       "  </thead>\n",
       "  <tbody>\n",
       "    <tr>\n",
       "      <th>0</th>\n",
       "      <td>51.495505</td>\n",
       "      <td>-0.132379</td>\n",
       "      <td>2.0</td>\n",
       "      <td>2.0</td>\n",
       "      <td>71.0</td>\n",
       "      <td>1.0</td>\n",
       "      <td>759000.0</td>\n",
       "      <td>0.0</td>\n",
       "      <td>0.0</td>\n",
       "      <td>1.0</td>\n",
       "      <td>...</td>\n",
       "      <td>0.0</td>\n",
       "      <td>0.0</td>\n",
       "      <td>0.0</td>\n",
       "      <td>0.0</td>\n",
       "      <td>0.0</td>\n",
       "      <td>0.0</td>\n",
       "      <td>0.0</td>\n",
       "      <td>0.0</td>\n",
       "      <td>0.0</td>\n",
       "      <td>2.0</td>\n",
       "    </tr>\n",
       "    <tr>\n",
       "      <th>1</th>\n",
       "      <td>51.478185</td>\n",
       "      <td>-0.092201</td>\n",
       "      <td>1.0</td>\n",
       "      <td>1.0</td>\n",
       "      <td>64.0</td>\n",
       "      <td>1.0</td>\n",
       "      <td>388000.0</td>\n",
       "      <td>0.0</td>\n",
       "      <td>0.0</td>\n",
       "      <td>1.0</td>\n",
       "      <td>...</td>\n",
       "      <td>0.0</td>\n",
       "      <td>0.0</td>\n",
       "      <td>0.0</td>\n",
       "      <td>0.0</td>\n",
       "      <td>0.0</td>\n",
       "      <td>0.0</td>\n",
       "      <td>0.0</td>\n",
       "      <td>0.0</td>\n",
       "      <td>0.0</td>\n",
       "      <td>3.0</td>\n",
       "    </tr>\n",
       "    <tr>\n",
       "      <th>2</th>\n",
       "      <td>51.588774</td>\n",
       "      <td>-0.139599</td>\n",
       "      <td>1.0</td>\n",
       "      <td>4.0</td>\n",
       "      <td>137.0</td>\n",
       "      <td>2.0</td>\n",
       "      <td>1261000.0</td>\n",
       "      <td>0.0</td>\n",
       "      <td>1.0</td>\n",
       "      <td>0.0</td>\n",
       "      <td>...</td>\n",
       "      <td>0.0</td>\n",
       "      <td>0.0</td>\n",
       "      <td>0.0</td>\n",
       "      <td>0.0</td>\n",
       "      <td>0.0</td>\n",
       "      <td>0.0</td>\n",
       "      <td>0.0</td>\n",
       "      <td>0.0</td>\n",
       "      <td>0.0</td>\n",
       "      <td>3.0</td>\n",
       "    </tr>\n",
       "    <tr>\n",
       "      <th>3</th>\n",
       "      <td>51.466089</td>\n",
       "      <td>0.006967</td>\n",
       "      <td>1.0</td>\n",
       "      <td>2.0</td>\n",
       "      <td>97.0</td>\n",
       "      <td>1.0</td>\n",
       "      <td>944000.0</td>\n",
       "      <td>0.0</td>\n",
       "      <td>1.0</td>\n",
       "      <td>0.0</td>\n",
       "      <td>...</td>\n",
       "      <td>1.0</td>\n",
       "      <td>0.0</td>\n",
       "      <td>0.0</td>\n",
       "      <td>0.0</td>\n",
       "      <td>0.0</td>\n",
       "      <td>0.0</td>\n",
       "      <td>0.0</td>\n",
       "      <td>0.0</td>\n",
       "      <td>0.0</td>\n",
       "      <td>3.0</td>\n",
       "    </tr>\n",
       "    <tr>\n",
       "      <th>4</th>\n",
       "      <td>51.451327</td>\n",
       "      <td>-0.007569</td>\n",
       "      <td>1.0</td>\n",
       "      <td>3.0</td>\n",
       "      <td>135.0</td>\n",
       "      <td>2.0</td>\n",
       "      <td>726000.0</td>\n",
       "      <td>0.0</td>\n",
       "      <td>1.0</td>\n",
       "      <td>0.0</td>\n",
       "      <td>...</td>\n",
       "      <td>0.0</td>\n",
       "      <td>0.0</td>\n",
       "      <td>0.0</td>\n",
       "      <td>0.0</td>\n",
       "      <td>0.0</td>\n",
       "      <td>0.0</td>\n",
       "      <td>1.0</td>\n",
       "      <td>0.0</td>\n",
       "      <td>0.0</td>\n",
       "      <td>4.0</td>\n",
       "    </tr>\n",
       "  </tbody>\n",
       "</table>\n",
       "<p>5 rows × 31 columns</p>\n",
       "</div>"
      ],
      "text/plain": [
       "    latitude  longitude  bathrooms  bedrooms  floorAreaSqM  livingRooms  \\\n",
       "0  51.495505  -0.132379        2.0       2.0          71.0          1.0   \n",
       "1  51.478185  -0.092201        1.0       1.0          64.0          1.0   \n",
       "2  51.588774  -0.139599        1.0       4.0         137.0          2.0   \n",
       "3  51.466089   0.006967        1.0       2.0          97.0          1.0   \n",
       "4  51.451327  -0.007569        1.0       3.0         135.0          2.0   \n",
       "\n",
       "   saleEstimate_currentPrice  tenure_Feudal  tenure_Freehold  \\\n",
       "0                   759000.0            0.0              0.0   \n",
       "1                   388000.0            0.0              0.0   \n",
       "2                  1261000.0            0.0              1.0   \n",
       "3                   944000.0            0.0              1.0   \n",
       "4                   726000.0            0.0              1.0   \n",
       "\n",
       "   tenure_Leasehold  ...  propertyType_Mid Terrace House  \\\n",
       "0               1.0  ...                             0.0   \n",
       "1               1.0  ...                             0.0   \n",
       "2               0.0  ...                             0.0   \n",
       "3               0.0  ...                             1.0   \n",
       "4               0.0  ...                             0.0   \n",
       "\n",
       "   propertyType_Mid Terrace Property  propertyType_Purpose Built Flat  \\\n",
       "0                                0.0                              0.0   \n",
       "1                                0.0                              0.0   \n",
       "2                                0.0                              0.0   \n",
       "3                                0.0                              0.0   \n",
       "4                                0.0                              0.0   \n",
       "\n",
       "   propertyType_Semi-Detached Bungalow  propertyType_Semi-Detached House  \\\n",
       "0                                  0.0                               0.0   \n",
       "1                                  0.0                               0.0   \n",
       "2                                  0.0                               0.0   \n",
       "3                                  0.0                               0.0   \n",
       "4                                  0.0                               0.0   \n",
       "\n",
       "   propertyType_Semi-Detached Property  propertyType_Terrace Property  \\\n",
       "0                                  0.0                            0.0   \n",
       "1                                  0.0                            0.0   \n",
       "2                                  0.0                            0.0   \n",
       "3                                  0.0                            0.0   \n",
       "4                                  0.0                            1.0   \n",
       "\n",
       "   propertyType_Terraced  propertyType_Terraced Bungalow  \\\n",
       "0                    0.0                             0.0   \n",
       "1                    0.0                             0.0   \n",
       "2                    0.0                             0.0   \n",
       "3                    0.0                             0.0   \n",
       "4                    0.0                             0.0   \n",
       "\n",
       "   currentEnergyRating_encoded  \n",
       "0                          2.0  \n",
       "1                          3.0  \n",
       "2                          3.0  \n",
       "3                          3.0  \n",
       "4                          4.0  \n",
       "\n",
       "[5 rows x 31 columns]"
      ]
     },
     "execution_count": 2,
     "metadata": {},
     "output_type": "execute_result"
    }
   ],
   "source": [
    "# Creating DataFrame\n",
    "pp_house_df = pd.read_csv(\"london_house_price_data_pp.csv\")\n",
    "# Viewing DataFrame\n",
    "pp_house_df.head(5)"
   ]
  },
  {
   "cell_type": "code",
   "execution_count": 3,
   "metadata": {},
   "outputs": [
    {
     "name": "stdout",
     "output_type": "stream",
     "text": [
      "<class 'pandas.core.frame.DataFrame'>\n",
      "RangeIndex: 265911 entries, 0 to 265910\n",
      "Data columns (total 31 columns):\n",
      " #   Column                               Non-Null Count   Dtype  \n",
      "---  ------                               --------------   -----  \n",
      " 0   latitude                             265911 non-null  float64\n",
      " 1   longitude                            265911 non-null  float64\n",
      " 2   bathrooms                            265911 non-null  float64\n",
      " 3   bedrooms                             265911 non-null  float64\n",
      " 4   floorAreaSqM                         265911 non-null  float64\n",
      " 5   livingRooms                          265911 non-null  float64\n",
      " 6   saleEstimate_currentPrice            265911 non-null  float64\n",
      " 7   tenure_Feudal                        265911 non-null  float64\n",
      " 8   tenure_Freehold                      265911 non-null  float64\n",
      " 9   tenure_Leasehold                     265911 non-null  float64\n",
      " 10  tenure_Shared                        265911 non-null  float64\n",
      " 11  propertyType_Bungalow Property       265911 non-null  float64\n",
      " 12  propertyType_Converted Flat          265911 non-null  float64\n",
      " 13  propertyType_Detached Bungalow       265911 non-null  float64\n",
      " 14  propertyType_Detached House          265911 non-null  float64\n",
      " 15  propertyType_Detached Property       265911 non-null  float64\n",
      " 16  propertyType_End Terrace Bungalow    265911 non-null  float64\n",
      " 17  propertyType_End Terrace House       265911 non-null  float64\n",
      " 18  propertyType_End Terrace Property    265911 non-null  float64\n",
      " 19  propertyType_Flat/Maisonette         265911 non-null  float64\n",
      " 20  propertyType_Mid Terrace Bungalow    265911 non-null  float64\n",
      " 21  propertyType_Mid Terrace House       265911 non-null  float64\n",
      " 22  propertyType_Mid Terrace Property    265911 non-null  float64\n",
      " 23  propertyType_Purpose Built Flat      265911 non-null  float64\n",
      " 24  propertyType_Semi-Detached Bungalow  265911 non-null  float64\n",
      " 25  propertyType_Semi-Detached House     265911 non-null  float64\n",
      " 26  propertyType_Semi-Detached Property  265911 non-null  float64\n",
      " 27  propertyType_Terrace Property        265911 non-null  float64\n",
      " 28  propertyType_Terraced                265911 non-null  float64\n",
      " 29  propertyType_Terraced Bungalow       265911 non-null  float64\n",
      " 30  currentEnergyRating_encoded          265911 non-null  float64\n",
      "dtypes: float64(31)\n",
      "memory usage: 62.9 MB\n"
     ]
    }
   ],
   "source": [
    "# Columns and data types\n",
    "pp_house_df.info()"
   ]
  },
  {
   "cell_type": "markdown",
   "metadata": {},
   "source": [
    "Checking that all the data types are numerical"
   ]
  },
  {
   "cell_type": "code",
   "execution_count": 10,
   "metadata": {},
   "outputs": [
    {
     "data": {
      "text/plain": [
       "(265911, 31)"
      ]
     },
     "execution_count": 10,
     "metadata": {},
     "output_type": "execute_result"
    }
   ],
   "source": [
    "# Shape of the DataFrame\n",
    "pp_house_df.shape"
   ]
  },
  {
   "cell_type": "markdown",
   "metadata": {},
   "source": [
    "## Preparing Data"
   ]
  },
  {
   "cell_type": "code",
   "execution_count": 4,
   "metadata": {},
   "outputs": [],
   "source": [
    "# Seperating features from target\n",
    "X = pp_house_df.drop('saleEstimate_currentPrice', axis=1)\n",
    "y = pp_house_df['saleEstimate_currentPrice']"
   ]
  },
  {
   "cell_type": "code",
   "execution_count": 5,
   "metadata": {},
   "outputs": [
    {
     "name": "stdout",
     "output_type": "stream",
     "text": [
      "Training set size: 170182\n",
      "Validation set size: 42546\n",
      "Test set size: 53183\n"
     ]
    }
   ],
   "source": [
    "# Remainder test split\n",
    "X_remainder, X_test, y_remainder, y_test = train_test_split(X, y, test_size=0.20, random_state=random_seed_val)\n",
    "\n",
    "# Train validation split\n",
    "X_train, X_valid, y_train, y_valid = train_test_split(X_remainder, y_remainder, test_size=0.20, random_state=random_seed_val)\n",
    "\n",
    "# Checking size of split\n",
    "print(f\"Training set size: {len(X_train)}\")\n",
    "print(f\"Validation set size: {len(X_valid)}\") \n",
    "print(f\"Test set size: {len(X_test)}\")"
   ]
  },
  {
   "cell_type": "markdown",
   "metadata": {},
   "source": [
    "## Non-Linear Modelling"
   ]
  },
  {
   "cell_type": "markdown",
   "metadata": {},
   "source": [
    "### Decision Tree Regressor"
   ]
  },
  {
   "cell_type": "markdown",
   "metadata": {},
   "source": [
    "#### Regression tree 1\n",
    "- max depth = 2\n",
    "- purpose = visualisation & understanding"
   ]
  },
  {
   "cell_type": "code",
   "execution_count": null,
   "metadata": {},
   "outputs": [
    {
     "name": "stdout",
     "output_type": "stream",
     "text": [
      "R-squared:0.5505827115309558\n",
      "MAE:306094.86490228144\n",
      "RMSE:535473.8096561081\n"
     ]
    }
   ],
   "source": [
    "# Decision tree of max depth of 2\n",
    "\n",
    "# Instantiate and fit model\n",
    "dt_md2 = DecisionTreeRegressor(max_depth = 2)\n",
    "dt_md2_fit = dt_md2.fit(X_train, y_train)\n",
    "\n",
    "# Prediction score \n",
    "dt_md2_predict = dt_md2_fit.predict(X_train)\n",
    "\n",
    "# TRAIN DATA EVAL:\n",
    "\n",
    "# Calculate R-squared \n",
    "r2_train = r2_score(y_train, dt_md2_predict)\n",
    "print(f\"R-squared:{r2_train}\")\n",
    "\n",
    "# Calculate MAE\n",
    "mae_train = mean_absolute_error(y_true=y_train, y_pred=dt_md2_predict)\n",
    "print(f\"MAE:{mae_train}\")\n",
    "\n",
    "# Calculate RMSE\n",
    "mse_train = mean_squared_error(y_true=y_train, y_pred=dt_md2_predict)\n",
    "rmse_train = math.sqrt(mse_train)\n",
    "print(f\"RMSE:{rmse_train}\")"
   ]
  },
  {
   "cell_type": "code",
   "execution_count": null,
   "metadata": {},
   "outputs": [
    {
     "name": "stdout",
     "output_type": "stream",
     "text": [
      "R-squared:0.5408864945022713\n",
      "MAE:307093.2295983481\n",
      "RMSE:553877.3491583251\n"
     ]
    }
   ],
   "source": [
    "# VALIDATION DATA EVAL:\n",
    "\n",
    "# Prediction score \n",
    "dt_md2_predict = dt_md2_fit.predict(X_valid)\n",
    "\n",
    "# Calculate R-squared for evaluation\n",
    "r2_valid = r2_score(y_valid, dt_md2_predict)\n",
    "print(f\"R-squared:{r2_valid}\")\n",
    "\n",
    "# Calculate MAE\n",
    "mae_valid = mean_absolute_error(y_true=y_valid, y_pred=dt_md2_predict)\n",
    "print(f\"MAE:{mae_valid}\")\n",
    "\n",
    "# Calculate RMSE\n",
    "mse = mean_squared_error(y_true=y_valid, y_pred=dt_md2_predict)\n",
    "rmse = math.sqrt(mse)\n",
    "print(f\"RMSE:{rmse}\")"
   ]
  },
  {
   "cell_type": "code",
   "execution_count": null,
   "metadata": {},
   "outputs": [
    {
     "data": {
      "image/png": "[encoded data removed]",
      "text/plain": [
       "<Figure size 1500x500 with 1 Axes>"
      ]
     },
     "metadata": {},
     "output_type": "display_data"
    }
   ],
   "source": [
    "# Visualise inital DTR\n",
    "fig, ax = plt.subplots(figsize=(15, 5))\n",
    "\n",
    "plot_tree(\n",
    "    dt_md2_fit,\n",
    "    feature_names=X_train.columns.to_list(),\n",
    "    rounded=True,\n",
    "    impurity=False,\n",
    "    filled=False, \n",
    "    ax=ax,\n",
    "    fontsize=12,\n",
    ")\n",
    "plt.show()"
   ]
  },
  {
   "cell_type": "code",
   "execution_count": null,
   "metadata": {},
   "outputs": [],
   "source": [
    "# Tuning Max depth for DTR\n",
    "\n",
    "depths_list = list(range(1, int(np.sqrt(len(X_train)))))\n",
    "r2_values = []\n",
    "mse_values = []\n",
    "\n",
    "for depth in depths_list:\n",
    "    decision_tree_model = DecisionTreeRegressor(max_depth=depth)\n",
    "    decision_tree_model.fit(X_train, y_train)\n",
    "\n",
    "    # Evaluate\n",
    "    r2_values.append(decision_tree_model.r2_score(X_train, y_train))\n"
   ]
  },
  {
   "cell_type": "code",
   "execution_count": null,
   "metadata": {},
   "outputs": [],
   "source": [
    "# Prune Max Depth for DTR with loop\n",
    "# Plot RMSE against max depth\n",
    "# Plot MAE against max depth\n",
    "# Plot R^2 against max depth\n",
    "# Choose which is the best max depth for the tree and why"
   ]
  },
  {
   "cell_type": "code",
   "execution_count": null,
   "metadata": {},
   "outputs": [],
   "source": [
    "# Make a comment on how well the decision tree performs and why it is required"
   ]
  }
 ],
 "metadata": {
  "kernelspec": {
   "display_name": "ml_env",
   "language": "python",
   "name": "python3"
  },
  "language_info": {
   "codemirror_mode": {
    "name": "ipython",
    "version": 3
   },
   "file_extension": ".py",
   "mimetype": "text/x-python",
   "name": "python",
   "nbconvert_exporter": "python",
   "pygments_lexer": "ipython3",
   "version": "3.11.5"
  }
 },
 "nbformat": 4,
 "nbformat_minor": 2
}

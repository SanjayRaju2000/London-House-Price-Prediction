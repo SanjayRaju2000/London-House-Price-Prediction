{
 "cells": [
  {
   "cell_type": "markdown",
   "metadata": {},
   "source": [
    "# Modelling"
   ]
  },
  {
   "cell_type": "markdown",
   "metadata": {},
   "source": [
    "## Notebook Summary"
   ]
  },
  {
   "cell_type": "markdown",
   "metadata": {},
   "source": [
    "- Random Forest Regressor \n",
    "- XG Boost"
   ]
  },
  {
   "cell_type": "markdown",
   "metadata": {},
   "source": [
    "## Notebook Setup"
   ]
  },
  {
   "cell_type": "code",
   "execution_count": 1,
   "metadata": {},
   "outputs": [],
   "source": [
    "# Standard imports\n",
    "import numpy as np\n",
    "import pandas as pd\n",
    "import matplotlib.pyplot as plt\n",
    "import plotly.graph_objects as go\n",
    "\n",
    "\n",
    "# Loading sklearn functionality\n",
    "from sklearn.linear_model import Lasso, Ridge, LinearRegression\n",
    "from sklearn.model_selection import train_test_split, GridSearchCV\n",
    "from sklearn.preprocessing import LabelEncoder, OneHotEncoder, OrdinalEncoder, StandardScaler, MinMaxScaler\n",
    "from sklearn.feature_selection import SelectKBest, VarianceThreshold, f_classif, f_regression\n",
    "from sklearn.pipeline import make_pipeline\n",
    "from sklearn.ensemble import RandomForestRegressor\n",
    "\n",
    "# Set global random seed for reproducibility\n",
    "random_seed_val = 42\n",
    "np.random.seed(random_seed_val)"
   ]
  },
  {
   "cell_type": "markdown",
   "metadata": {},
   "source": [
    "## Data loading"
   ]
  },
  {
   "cell_type": "code",
   "execution_count": 2,
   "metadata": {},
   "outputs": [
    {
     "data": {
      "text/html": [
       "<div>\n",
       "<style scoped>\n",
       "    .dataframe tbody tr th:only-of-type {\n",
       "        vertical-align: middle;\n",
       "    }\n",
       "\n",
       "    .dataframe tbody tr th {\n",
       "        vertical-align: top;\n",
       "    }\n",
       "\n",
       "    .dataframe thead th {\n",
       "        text-align: right;\n",
       "    }\n",
       "</style>\n",
       "<table border=\"1\" class=\"dataframe\">\n",
       "  <thead>\n",
       "    <tr style=\"text-align: right;\">\n",
       "      <th></th>\n",
       "      <th>latitude</th>\n",
       "      <th>longitude</th>\n",
       "      <th>bathrooms</th>\n",
       "      <th>bedrooms</th>\n",
       "      <th>floorAreaSqM</th>\n",
       "      <th>livingRooms</th>\n",
       "      <th>saleEstimate_currentPrice</th>\n",
       "      <th>history_price</th>\n",
       "      <th>tenure_Feudal</th>\n",
       "      <th>tenure_Freehold</th>\n",
       "      <th>...</th>\n",
       "      <th>propertyType_Mid Terrace House</th>\n",
       "      <th>propertyType_Mid Terrace Property</th>\n",
       "      <th>propertyType_Purpose Built Flat</th>\n",
       "      <th>propertyType_Semi-Detached Bungalow</th>\n",
       "      <th>propertyType_Semi-Detached House</th>\n",
       "      <th>propertyType_Semi-Detached Property</th>\n",
       "      <th>propertyType_Terrace Property</th>\n",
       "      <th>propertyType_Terraced</th>\n",
       "      <th>propertyType_Terraced Bungalow</th>\n",
       "      <th>currentEnergyRating_encoded</th>\n",
       "    </tr>\n",
       "  </thead>\n",
       "  <tbody>\n",
       "    <tr>\n",
       "      <th>0</th>\n",
       "      <td>51.495505</td>\n",
       "      <td>-0.132379</td>\n",
       "      <td>2.0</td>\n",
       "      <td>2.0</td>\n",
       "      <td>71.0</td>\n",
       "      <td>1.0</td>\n",
       "      <td>759000.0</td>\n",
       "      <td>249950</td>\n",
       "      <td>0.0</td>\n",
       "      <td>0.0</td>\n",
       "      <td>...</td>\n",
       "      <td>0.0</td>\n",
       "      <td>0.0</td>\n",
       "      <td>0.0</td>\n",
       "      <td>0.0</td>\n",
       "      <td>0.0</td>\n",
       "      <td>0.0</td>\n",
       "      <td>0.0</td>\n",
       "      <td>0.0</td>\n",
       "      <td>0.0</td>\n",
       "      <td>2.0</td>\n",
       "    </tr>\n",
       "    <tr>\n",
       "      <th>1</th>\n",
       "      <td>51.478185</td>\n",
       "      <td>-0.092201</td>\n",
       "      <td>1.0</td>\n",
       "      <td>1.0</td>\n",
       "      <td>64.0</td>\n",
       "      <td>1.0</td>\n",
       "      <td>388000.0</td>\n",
       "      <td>32000</td>\n",
       "      <td>0.0</td>\n",
       "      <td>0.0</td>\n",
       "      <td>...</td>\n",
       "      <td>0.0</td>\n",
       "      <td>0.0</td>\n",
       "      <td>0.0</td>\n",
       "      <td>0.0</td>\n",
       "      <td>0.0</td>\n",
       "      <td>0.0</td>\n",
       "      <td>0.0</td>\n",
       "      <td>0.0</td>\n",
       "      <td>0.0</td>\n",
       "      <td>3.0</td>\n",
       "    </tr>\n",
       "    <tr>\n",
       "      <th>2</th>\n",
       "      <td>51.588774</td>\n",
       "      <td>-0.139599</td>\n",
       "      <td>1.0</td>\n",
       "      <td>4.0</td>\n",
       "      <td>137.0</td>\n",
       "      <td>2.0</td>\n",
       "      <td>1261000.0</td>\n",
       "      <td>133000</td>\n",
       "      <td>0.0</td>\n",
       "      <td>1.0</td>\n",
       "      <td>...</td>\n",
       "      <td>0.0</td>\n",
       "      <td>0.0</td>\n",
       "      <td>0.0</td>\n",
       "      <td>0.0</td>\n",
       "      <td>0.0</td>\n",
       "      <td>0.0</td>\n",
       "      <td>0.0</td>\n",
       "      <td>0.0</td>\n",
       "      <td>0.0</td>\n",
       "      <td>3.0</td>\n",
       "    </tr>\n",
       "    <tr>\n",
       "      <th>3</th>\n",
       "      <td>51.466089</td>\n",
       "      <td>0.006967</td>\n",
       "      <td>1.0</td>\n",
       "      <td>2.0</td>\n",
       "      <td>97.0</td>\n",
       "      <td>1.0</td>\n",
       "      <td>944000.0</td>\n",
       "      <td>128500</td>\n",
       "      <td>0.0</td>\n",
       "      <td>1.0</td>\n",
       "      <td>...</td>\n",
       "      <td>1.0</td>\n",
       "      <td>0.0</td>\n",
       "      <td>0.0</td>\n",
       "      <td>0.0</td>\n",
       "      <td>0.0</td>\n",
       "      <td>0.0</td>\n",
       "      <td>0.0</td>\n",
       "      <td>0.0</td>\n",
       "      <td>0.0</td>\n",
       "      <td>3.0</td>\n",
       "    </tr>\n",
       "    <tr>\n",
       "      <th>4</th>\n",
       "      <td>51.451327</td>\n",
       "      <td>-0.007569</td>\n",
       "      <td>1.0</td>\n",
       "      <td>3.0</td>\n",
       "      <td>135.0</td>\n",
       "      <td>2.0</td>\n",
       "      <td>726000.0</td>\n",
       "      <td>75000</td>\n",
       "      <td>0.0</td>\n",
       "      <td>1.0</td>\n",
       "      <td>...</td>\n",
       "      <td>0.0</td>\n",
       "      <td>0.0</td>\n",
       "      <td>0.0</td>\n",
       "      <td>0.0</td>\n",
       "      <td>0.0</td>\n",
       "      <td>0.0</td>\n",
       "      <td>1.0</td>\n",
       "      <td>0.0</td>\n",
       "      <td>0.0</td>\n",
       "      <td>4.0</td>\n",
       "    </tr>\n",
       "  </tbody>\n",
       "</table>\n",
       "<p>5 rows × 32 columns</p>\n",
       "</div>"
      ],
      "text/plain": [
       "    latitude  longitude  bathrooms  bedrooms  floorAreaSqM  livingRooms  \\\n",
       "0  51.495505  -0.132379        2.0       2.0          71.0          1.0   \n",
       "1  51.478185  -0.092201        1.0       1.0          64.0          1.0   \n",
       "2  51.588774  -0.139599        1.0       4.0         137.0          2.0   \n",
       "3  51.466089   0.006967        1.0       2.0          97.0          1.0   \n",
       "4  51.451327  -0.007569        1.0       3.0         135.0          2.0   \n",
       "\n",
       "   saleEstimate_currentPrice  history_price  tenure_Feudal  tenure_Freehold  \\\n",
       "0                   759000.0         249950            0.0              0.0   \n",
       "1                   388000.0          32000            0.0              0.0   \n",
       "2                  1261000.0         133000            0.0              1.0   \n",
       "3                   944000.0         128500            0.0              1.0   \n",
       "4                   726000.0          75000            0.0              1.0   \n",
       "\n",
       "   ...  propertyType_Mid Terrace House  propertyType_Mid Terrace Property  \\\n",
       "0  ...                             0.0                                0.0   \n",
       "1  ...                             0.0                                0.0   \n",
       "2  ...                             0.0                                0.0   \n",
       "3  ...                             1.0                                0.0   \n",
       "4  ...                             0.0                                0.0   \n",
       "\n",
       "   propertyType_Purpose Built Flat  propertyType_Semi-Detached Bungalow  \\\n",
       "0                              0.0                                  0.0   \n",
       "1                              0.0                                  0.0   \n",
       "2                              0.0                                  0.0   \n",
       "3                              0.0                                  0.0   \n",
       "4                              0.0                                  0.0   \n",
       "\n",
       "   propertyType_Semi-Detached House  propertyType_Semi-Detached Property  \\\n",
       "0                               0.0                                  0.0   \n",
       "1                               0.0                                  0.0   \n",
       "2                               0.0                                  0.0   \n",
       "3                               0.0                                  0.0   \n",
       "4                               0.0                                  0.0   \n",
       "\n",
       "   propertyType_Terrace Property  propertyType_Terraced  \\\n",
       "0                            0.0                    0.0   \n",
       "1                            0.0                    0.0   \n",
       "2                            0.0                    0.0   \n",
       "3                            0.0                    0.0   \n",
       "4                            1.0                    0.0   \n",
       "\n",
       "   propertyType_Terraced Bungalow  currentEnergyRating_encoded  \n",
       "0                             0.0                          2.0  \n",
       "1                             0.0                          3.0  \n",
       "2                             0.0                          3.0  \n",
       "3                             0.0                          3.0  \n",
       "4                             0.0                          4.0  \n",
       "\n",
       "[5 rows x 32 columns]"
      ]
     },
     "execution_count": 2,
     "metadata": {},
     "output_type": "execute_result"
    }
   ],
   "source": [
    "# Creating DataFrame\n",
    "pp_house_df = pd.read_csv(\"london_house_price_data_pp.csv\")\n",
    "# Viewing DataFrame\n",
    "pp_house_df.head(5)"
   ]
  },
  {
   "cell_type": "code",
   "execution_count": 3,
   "metadata": {},
   "outputs": [
    {
     "name": "stdout",
     "output_type": "stream",
     "text": [
      "<class 'pandas.core.frame.DataFrame'>\n",
      "RangeIndex: 265911 entries, 0 to 265910\n",
      "Data columns (total 32 columns):\n",
      " #   Column                               Non-Null Count   Dtype  \n",
      "---  ------                               --------------   -----  \n",
      " 0   latitude                             265911 non-null  float64\n",
      " 1   longitude                            265911 non-null  float64\n",
      " 2   bathrooms                            265911 non-null  float64\n",
      " 3   bedrooms                             265911 non-null  float64\n",
      " 4   floorAreaSqM                         265911 non-null  float64\n",
      " 5   livingRooms                          265911 non-null  float64\n",
      " 6   saleEstimate_currentPrice            265911 non-null  float64\n",
      " 7   history_price                        265911 non-null  int64  \n",
      " 8   tenure_Feudal                        265911 non-null  float64\n",
      " 9   tenure_Freehold                      265911 non-null  float64\n",
      " 10  tenure_Leasehold                     265911 non-null  float64\n",
      " 11  tenure_Shared                        265911 non-null  float64\n",
      " 12  propertyType_Bungalow Property       265911 non-null  float64\n",
      " 13  propertyType_Converted Flat          265911 non-null  float64\n",
      " 14  propertyType_Detached Bungalow       265911 non-null  float64\n",
      " 15  propertyType_Detached House          265911 non-null  float64\n",
      " 16  propertyType_Detached Property       265911 non-null  float64\n",
      " 17  propertyType_End Terrace Bungalow    265911 non-null  float64\n",
      " 18  propertyType_End Terrace House       265911 non-null  float64\n",
      " 19  propertyType_End Terrace Property    265911 non-null  float64\n",
      " 20  propertyType_Flat/Maisonette         265911 non-null  float64\n",
      " 21  propertyType_Mid Terrace Bungalow    265911 non-null  float64\n",
      " 22  propertyType_Mid Terrace House       265911 non-null  float64\n",
      " 23  propertyType_Mid Terrace Property    265911 non-null  float64\n",
      " 24  propertyType_Purpose Built Flat      265911 non-null  float64\n",
      " 25  propertyType_Semi-Detached Bungalow  265911 non-null  float64\n",
      " 26  propertyType_Semi-Detached House     265911 non-null  float64\n",
      " 27  propertyType_Semi-Detached Property  265911 non-null  float64\n",
      " 28  propertyType_Terrace Property        265911 non-null  float64\n",
      " 29  propertyType_Terraced                265911 non-null  float64\n",
      " 30  propertyType_Terraced Bungalow       265911 non-null  float64\n",
      " 31  currentEnergyRating_encoded          265911 non-null  float64\n",
      "dtypes: float64(31), int64(1)\n",
      "memory usage: 64.9 MB\n"
     ]
    }
   ],
   "source": [
    "# Columns and data types\n",
    "pp_house_df.info()"
   ]
  },
  {
   "cell_type": "code",
   "execution_count": 4,
   "metadata": {},
   "outputs": [
    {
     "data": {
      "text/plain": [
       "(265911, 32)"
      ]
     },
     "execution_count": 4,
     "metadata": {},
     "output_type": "execute_result"
    }
   ],
   "source": [
    "# Shape of the DataFrame\n",
    "pp_house_df.shape"
   ]
  },
  {
   "cell_type": "markdown",
   "metadata": {},
   "source": [
    "## Preparing Data"
   ]
  },
  {
   "cell_type": "code",
   "execution_count": 5,
   "metadata": {},
   "outputs": [],
   "source": [
    "# Seperating features from target\n",
    "X = pp_house_df.drop('saleEstimate_currentPrice', axis=1)\n",
    "y = pp_house_df['saleEstimate_currentPrice']"
   ]
  },
  {
   "cell_type": "code",
   "execution_count": 6,
   "metadata": {},
   "outputs": [
    {
     "name": "stdout",
     "output_type": "stream",
     "text": [
      "Training set size: 170182\n",
      "Validation set size: 42546\n",
      "Test set size: 53183\n"
     ]
    }
   ],
   "source": [
    "# Remainder test split\n",
    "X_remainder, X_test, y_remainder, y_test = train_test_split(X, y, test_size=0.20, random_state=random_seed_val)\n",
    "\n",
    "# Train validation split\n",
    "X_train, X_valid, y_train, y_valid = train_test_split(X_remainder, y_remainder, test_size=0.20, random_state=random_seed_val)\n",
    "\n",
    "# Checking size of split\n",
    "print(f\"Training set size: {len(X_train)}\")\n",
    "print(f\"Validation set size: {len(X_valid)}\") \n",
    "print(f\"Test set size: {len(X_test)}\")"
   ]
  },
  {
   "cell_type": "markdown",
   "metadata": {},
   "source": [
    "## Non-Linear Modelling"
   ]
  },
  {
   "cell_type": "markdown",
   "metadata": {},
   "source": [
    "### Random Forest Classifier\n",
    "\n",
    "Random Forest Regressor is ideal for predicting property prices as it captures non-linear relationships, handles outliers, provides feature importance, requires no scaling, and delivers strong predictive performance with minimal tuning."
   ]
  },
  {
   "cell_type": "code",
   "execution_count": 7,
   "metadata": {},
   "outputs": [
    {
     "name": "stdout",
     "output_type": "stream",
     "text": [
      " Train score: 0.9149 Validation score : 0.8815\n"
     ]
    }
   ],
   "source": [
    "# Initialize the Random Forest Regressor\n",
    "rf_model = RandomForestRegressor(n_estimators=50, max_depth=10, random_state=42)\n",
    "\n",
    "# Fit the model\n",
    "rf_model.fit(X_train, y_train)\n",
    "\n",
    "# Score on training data\n",
    "train_score = rf_model.score(X_train, y_train)\n",
    "\n",
    "# Prediction on valid data\n",
    "valid_score = rf_model.score(X_valid, y_valid)\n",
    "\n",
    "# Printing scores\n",
    "print(f\" Train score: {train_score:.4f} Validation score : {valid_score:.4f}\")"
   ]
  },
  {
   "cell_type": "code",
   "execution_count": null,
   "metadata": {},
   "outputs": [],
   "source": [
    "# Define the parameter grid\n",
    "param_grid = {\n",
    "    'n_estimators': [50, 100, 200],  \n",
    "    'max_depth': [1, 10, 20, 30],  \n",
    "    'min_samples_split': [2, 5, 10],  \n",
    "    'min_samples_leaf': [1, 2, 4],    \n",
    "    'max_features': ['auto', 'sqrt']   \n",
    "}\n",
    "\n",
    "# Initialize the Random Forest Regressor\n",
    "rf_model = RandomForestRegressor(random_state=42)\n",
    "\n",
    "# Set up GridSearchCV\n",
    "grid_search = GridSearchCV(estimator=rf_model, param_grid=param_grid, cv=5, scoring='neg_mean_squared_error', n_jobs=-1)\n",
    "\n",
    "# Fit GridSearchCV to the training data\n",
    "grid_search.fit(X_train, y_train)\n",
    "\n",
    "# Get the best hyperparameters\n",
    "best_params = grid_search.best_params_\n",
    "print(f\"Best hyperparameters: {best_params}\")\n",
    "\n",
    "# Get the best model\n",
    "best_rf_model = grid_search.best_estimator_\n",
    "\n",
    "# Evaluate the best model on the validation data\n",
    "best_valid_score = best_rf_model.score(X_valid, y_valid)\n",
    "print(f\"Validation R^2 score with best hyperparameters: {best_valid_score:.4f}\")"
   ]
  },
  {
   "cell_type": "code",
   "execution_count": null,
   "metadata": {},
   "outputs": [],
   "source": []
  }
 ],
 "metadata": {
  "kernelspec": {
   "display_name": "ml_env",
   "language": "python",
   "name": "python3"
  },
  "language_info": {
   "codemirror_mode": {
    "name": "ipython",
    "version": 3
   },
   "file_extension": ".py",
   "mimetype": "text/x-python",
   "name": "python",
   "nbconvert_exporter": "python",
   "pygments_lexer": "ipython3",
   "version": "3.11.5"
  }
 },
 "nbformat": 4,
 "nbformat_minor": 2
}

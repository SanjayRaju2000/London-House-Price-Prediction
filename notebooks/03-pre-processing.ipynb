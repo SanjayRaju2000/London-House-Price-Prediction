{
 "cells": [
  {
   "cell_type": "markdown",
   "metadata": {},
   "source": [
    "# Data Pre-processing"
   ]
  },
  {
   "cell_type": "markdown",
   "metadata": {},
   "source": [
    "## Notebook Summary"
   ]
  },
  {
   "cell_type": "markdown",
   "metadata": {},
   "source": [
    "This notebook focuses on preparing a cleaned dataset for linear modelling techniques, such as linear regression and ridge regression. The notebook details pre-processing steps, including standardising or normalising features to meet the assumptions of linear models. A key component is feature engineering, which involves creating or transforming variables to better capture underlying patterns and improve model performance. The dataset will be structured to ensure optimal performance and interpretability, providing a robust foundation for accurate predictive modelling using techniques such as linear regression and ridge regression."
   ]
  },
  {
   "cell_type": "markdown",
   "metadata": {},
   "source": [
    "## Notebook Setup"
   ]
  },
  {
   "cell_type": "code",
   "execution_count": 92,
   "metadata": {},
   "outputs": [],
   "source": [
    "# Imports\n",
    "import glob\n",
    "import numpy as np\n",
    "import pandas as pd\n",
    "import matplotlib.pyplot as plt\n",
    "import seaborn as sns\n",
    "import statsmodels.api as sm\n",
    "from scipy.stats import chi2_contingency\n",
    "from scipy.stats import pearsonr\n",
    "from sklearn.preprocessing import OneHotEncoder, OrdinalEncoder"
   ]
  },
  {
   "cell_type": "markdown",
   "metadata": {},
   "source": [
    "## Data Loading & Understanding"
   ]
  },
  {
   "cell_type": "code",
   "execution_count": 93,
   "metadata": {},
   "outputs": [
    {
     "data": {
      "text/html": [
       "<div>\n",
       "<style scoped>\n",
       "    .dataframe tbody tr th:only-of-type {\n",
       "        vertical-align: middle;\n",
       "    }\n",
       "\n",
       "    .dataframe tbody tr th {\n",
       "        vertical-align: top;\n",
       "    }\n",
       "\n",
       "    .dataframe thead th {\n",
       "        text-align: right;\n",
       "    }\n",
       "</style>\n",
       "<table border=\"1\" class=\"dataframe\">\n",
       "  <thead>\n",
       "    <tr style=\"text-align: right;\">\n",
       "      <th></th>\n",
       "      <th>fullAddress</th>\n",
       "      <th>postcode</th>\n",
       "      <th>outcode</th>\n",
       "      <th>latitude</th>\n",
       "      <th>longitude</th>\n",
       "      <th>bathrooms</th>\n",
       "      <th>bedrooms</th>\n",
       "      <th>floorAreaSqM</th>\n",
       "      <th>livingRooms</th>\n",
       "      <th>tenure</th>\n",
       "      <th>...</th>\n",
       "      <th>saleEstimate_lowerPrice</th>\n",
       "      <th>saleEstimate_currentPrice</th>\n",
       "      <th>saleEstimate_upperPrice</th>\n",
       "      <th>saleEstimate_confidenceLevel</th>\n",
       "      <th>saleEstimate_ingestedAt</th>\n",
       "      <th>saleEstimate_valueChange.numericChange</th>\n",
       "      <th>saleEstimate_valueChange.percentageChange</th>\n",
       "      <th>saleEstimate_valueChange.saleDate</th>\n",
       "      <th>history_date</th>\n",
       "      <th>history_price</th>\n",
       "    </tr>\n",
       "  </thead>\n",
       "  <tbody>\n",
       "    <tr>\n",
       "      <th>0</th>\n",
       "      <td>Flat 35, Octavia House, Medway Street, London,...</td>\n",
       "      <td>SW1P 2TA</td>\n",
       "      <td>SW1P</td>\n",
       "      <td>51.495505</td>\n",
       "      <td>-0.132379</td>\n",
       "      <td>2.0</td>\n",
       "      <td>2.0</td>\n",
       "      <td>71.0</td>\n",
       "      <td>1.0</td>\n",
       "      <td>Leasehold</td>\n",
       "      <td>...</td>\n",
       "      <td>683000.0</td>\n",
       "      <td>759000.0</td>\n",
       "      <td>834000.0</td>\n",
       "      <td>MEDIUM</td>\n",
       "      <td>2025-01-10T11:04:57.114Z</td>\n",
       "      <td>49000.0</td>\n",
       "      <td>6.901408</td>\n",
       "      <td>2019-09-04</td>\n",
       "      <td>1995-01-03</td>\n",
       "      <td>249950</td>\n",
       "    </tr>\n",
       "    <tr>\n",
       "      <th>1</th>\n",
       "      <td>24 Chester Court, Lomond Grove, London, SE5 7HS</td>\n",
       "      <td>SE5 7HS</td>\n",
       "      <td>SE5</td>\n",
       "      <td>51.478185</td>\n",
       "      <td>-0.092201</td>\n",
       "      <td>1.0</td>\n",
       "      <td>1.0</td>\n",
       "      <td>64.0</td>\n",
       "      <td>1.0</td>\n",
       "      <td>Leasehold</td>\n",
       "      <td>...</td>\n",
       "      <td>368000.0</td>\n",
       "      <td>388000.0</td>\n",
       "      <td>407000.0</td>\n",
       "      <td>HIGH</td>\n",
       "      <td>2024-10-07T13:26:59.894Z</td>\n",
       "      <td>28000.0</td>\n",
       "      <td>7.777778</td>\n",
       "      <td>2024-01-25</td>\n",
       "      <td>1995-01-03</td>\n",
       "      <td>32000</td>\n",
       "    </tr>\n",
       "    <tr>\n",
       "      <th>2</th>\n",
       "      <td>18 Alexandra Gardens, London, N10 3RL</td>\n",
       "      <td>N10 3RL</td>\n",
       "      <td>N10</td>\n",
       "      <td>51.588774</td>\n",
       "      <td>-0.139599</td>\n",
       "      <td>1.0</td>\n",
       "      <td>4.0</td>\n",
       "      <td>137.0</td>\n",
       "      <td>2.0</td>\n",
       "      <td>Freehold</td>\n",
       "      <td>...</td>\n",
       "      <td>1198000.0</td>\n",
       "      <td>1261000.0</td>\n",
       "      <td>1324000.0</td>\n",
       "      <td>HIGH</td>\n",
       "      <td>2024-10-07T13:26:59.894Z</td>\n",
       "      <td>81000.0</td>\n",
       "      <td>6.864407</td>\n",
       "      <td>2022-12-14</td>\n",
       "      <td>1995-01-03</td>\n",
       "      <td>133000</td>\n",
       "    </tr>\n",
       "    <tr>\n",
       "      <th>3</th>\n",
       "      <td>17 Collins Street, London, SE3 0UG</td>\n",
       "      <td>SE3 0UG</td>\n",
       "      <td>SE3</td>\n",
       "      <td>51.466089</td>\n",
       "      <td>0.006967</td>\n",
       "      <td>1.0</td>\n",
       "      <td>2.0</td>\n",
       "      <td>97.0</td>\n",
       "      <td>1.0</td>\n",
       "      <td>Freehold</td>\n",
       "      <td>...</td>\n",
       "      <td>897000.0</td>\n",
       "      <td>944000.0</td>\n",
       "      <td>991000.0</td>\n",
       "      <td>HIGH</td>\n",
       "      <td>2024-10-07T13:26:59.894Z</td>\n",
       "      <td>119000.0</td>\n",
       "      <td>14.424242</td>\n",
       "      <td>2021-09-30</td>\n",
       "      <td>1995-01-03</td>\n",
       "      <td>128500</td>\n",
       "    </tr>\n",
       "    <tr>\n",
       "      <th>4</th>\n",
       "      <td>14 Theodore Road, London, SE13 6HT</td>\n",
       "      <td>SE13 6HT</td>\n",
       "      <td>SE13</td>\n",
       "      <td>51.451327</td>\n",
       "      <td>-0.007569</td>\n",
       "      <td>1.0</td>\n",
       "      <td>3.0</td>\n",
       "      <td>135.0</td>\n",
       "      <td>2.0</td>\n",
       "      <td>Freehold</td>\n",
       "      <td>...</td>\n",
       "      <td>690000.0</td>\n",
       "      <td>726000.0</td>\n",
       "      <td>762000.0</td>\n",
       "      <td>HIGH</td>\n",
       "      <td>2024-10-07T13:26:59.894Z</td>\n",
       "      <td>71000.0</td>\n",
       "      <td>10.839695</td>\n",
       "      <td>2021-12-06</td>\n",
       "      <td>1995-01-03</td>\n",
       "      <td>75000</td>\n",
       "    </tr>\n",
       "  </tbody>\n",
       "</table>\n",
       "<p>5 rows × 25 columns</p>\n",
       "</div>"
      ],
      "text/plain": [
       "                                         fullAddress  postcode outcode  \\\n",
       "0  Flat 35, Octavia House, Medway Street, London,...  SW1P 2TA    SW1P   \n",
       "1    24 Chester Court, Lomond Grove, London, SE5 7HS   SE5 7HS     SE5   \n",
       "2              18 Alexandra Gardens, London, N10 3RL   N10 3RL     N10   \n",
       "3                 17 Collins Street, London, SE3 0UG   SE3 0UG     SE3   \n",
       "4                 14 Theodore Road, London, SE13 6HT  SE13 6HT    SE13   \n",
       "\n",
       "    latitude  longitude  bathrooms  bedrooms  floorAreaSqM  livingRooms  \\\n",
       "0  51.495505  -0.132379        2.0       2.0          71.0          1.0   \n",
       "1  51.478185  -0.092201        1.0       1.0          64.0          1.0   \n",
       "2  51.588774  -0.139599        1.0       4.0         137.0          2.0   \n",
       "3  51.466089   0.006967        1.0       2.0          97.0          1.0   \n",
       "4  51.451327  -0.007569        1.0       3.0         135.0          2.0   \n",
       "\n",
       "      tenure  ... saleEstimate_lowerPrice saleEstimate_currentPrice  \\\n",
       "0  Leasehold  ...                683000.0                  759000.0   \n",
       "1  Leasehold  ...                368000.0                  388000.0   \n",
       "2   Freehold  ...               1198000.0                 1261000.0   \n",
       "3   Freehold  ...                897000.0                  944000.0   \n",
       "4   Freehold  ...                690000.0                  726000.0   \n",
       "\n",
       "   saleEstimate_upperPrice  saleEstimate_confidenceLevel  \\\n",
       "0                 834000.0                        MEDIUM   \n",
       "1                 407000.0                          HIGH   \n",
       "2                1324000.0                          HIGH   \n",
       "3                 991000.0                          HIGH   \n",
       "4                 762000.0                          HIGH   \n",
       "\n",
       "    saleEstimate_ingestedAt  saleEstimate_valueChange.numericChange  \\\n",
       "0  2025-01-10T11:04:57.114Z                                 49000.0   \n",
       "1  2024-10-07T13:26:59.894Z                                 28000.0   \n",
       "2  2024-10-07T13:26:59.894Z                                 81000.0   \n",
       "3  2024-10-07T13:26:59.894Z                                119000.0   \n",
       "4  2024-10-07T13:26:59.894Z                                 71000.0   \n",
       "\n",
       "   saleEstimate_valueChange.percentageChange  \\\n",
       "0                                   6.901408   \n",
       "1                                   7.777778   \n",
       "2                                   6.864407   \n",
       "3                                  14.424242   \n",
       "4                                  10.839695   \n",
       "\n",
       "   saleEstimate_valueChange.saleDate history_date history_price  \n",
       "0                         2019-09-04   1995-01-03        249950  \n",
       "1                         2024-01-25   1995-01-03         32000  \n",
       "2                         2022-12-14   1995-01-03        133000  \n",
       "3                         2021-09-30   1995-01-03        128500  \n",
       "4                         2021-12-06   1995-01-03         75000  \n",
       "\n",
       "[5 rows x 25 columns]"
      ]
     },
     "execution_count": 93,
     "metadata": {},
     "output_type": "execute_result"
    }
   ],
   "source": [
    "# Creating DataFrame\n",
    "clean_house_df = pd.read_csv(\"london_house_price_data_clean.csv\")\n",
    "# Viewing DataFrame\n",
    "clean_house_df.head(5)"
   ]
  },
  {
   "cell_type": "code",
   "execution_count": 94,
   "metadata": {},
   "outputs": [
    {
     "name": "stdout",
     "output_type": "stream",
     "text": [
      "<class 'pandas.core.frame.DataFrame'>\n",
      "RangeIndex: 265911 entries, 0 to 265910\n",
      "Data columns (total 25 columns):\n",
      " #   Column                                     Non-Null Count   Dtype  \n",
      "---  ------                                     --------------   -----  \n",
      " 0   fullAddress                                265911 non-null  object \n",
      " 1   postcode                                   265911 non-null  object \n",
      " 2   outcode                                    265911 non-null  object \n",
      " 3   latitude                                   265911 non-null  float64\n",
      " 4   longitude                                  265911 non-null  float64\n",
      " 5   bathrooms                                  265911 non-null  float64\n",
      " 6   bedrooms                                   265911 non-null  float64\n",
      " 7   floorAreaSqM                               265911 non-null  float64\n",
      " 8   livingRooms                                265911 non-null  float64\n",
      " 9   tenure                                     265911 non-null  object \n",
      " 10  propertyType                               265911 non-null  object \n",
      " 11  currentEnergyRating                        265911 non-null  object \n",
      " 12  rentEstimate_lowerPrice                    265911 non-null  float64\n",
      " 13  rentEstimate_currentPrice                  265911 non-null  float64\n",
      " 14  rentEstimate_upperPrice                    265911 non-null  float64\n",
      " 15  saleEstimate_lowerPrice                    265911 non-null  float64\n",
      " 16  saleEstimate_currentPrice                  265911 non-null  float64\n",
      " 17  saleEstimate_upperPrice                    265911 non-null  float64\n",
      " 18  saleEstimate_confidenceLevel               265911 non-null  object \n",
      " 19  saleEstimate_ingestedAt                    265911 non-null  object \n",
      " 20  saleEstimate_valueChange.numericChange     265911 non-null  float64\n",
      " 21  saleEstimate_valueChange.percentageChange  265911 non-null  float64\n",
      " 22  saleEstimate_valueChange.saleDate          265911 non-null  object \n",
      " 23  history_date                               265911 non-null  object \n",
      " 24  history_price                              265911 non-null  int64  \n",
      "dtypes: float64(14), int64(1), object(10)\n",
      "memory usage: 50.7+ MB\n"
     ]
    }
   ],
   "source": [
    "# Columns and data types\n",
    "clean_house_df.info()"
   ]
  },
  {
   "cell_type": "code",
   "execution_count": 95,
   "metadata": {},
   "outputs": [
    {
     "name": "stdout",
     "output_type": "stream",
     "text": [
      "The data has 265911 rows and 25 columns\n"
     ]
    }
   ],
   "source": [
    "# Shape of the data\n",
    "rows, cols = clean_house_df.shape\n",
    "print(f\"The data has {rows} rows and {cols} columns\")"
   ]
  },
  {
   "cell_type": "markdown",
   "metadata": {},
   "source": [
    "### Categorical columns"
   ]
  },
  {
   "cell_type": "markdown",
   "metadata": {},
   "source": [
    "The data input for regression models must be strictly numerical, necessitating the transformation of categorical variables into a suitable numerical format. This ensures compatibility with the mathematical foundations of regression algorithms.\n",
    "\n",
    "- 'fullAddress'\n",
    "- 'postcode'\n",
    "- 'outcode'\n",
    "- 'tenure'\n",
    "- 'propertyType'\n",
    "- 'currentEnergyRating'\n",
    "- 'saleEstimate_confidenceLevel' "
   ]
  },
  {
   "cell_type": "markdown",
   "metadata": {},
   "source": [
    "### Date columns\n",
    "\n",
    "Dates are typically stored as strings or datetime objects, which are not directly interpretable by the model. Therefore date values should be promptly removed. \n",
    "\n",
    "- 'saleEstimate_ingestedAt' \n",
    "- 'saleEstimate_valueChange.saleDate' \n",
    "- 'history_date'    "
   ]
  },
  {
   "cell_type": "markdown",
   "metadata": {},
   "source": [
    "### Leakage columns\n",
    "\n",
    "These columns provide insights into the target variable, must be removed to maintain the integrity of the statistical models. This action prevents data leakage and overfitting, ensuring that the model generalizes effectively to unseen data.\n",
    "\n",
    "- 'rentEstimate_lowerPrice'\n",
    "- 'rentEstimate_currentPrice'\n",
    "- 'rentEstimate_upperPrice'\n",
    "- 'saleEstimate_lowerPrice' \n",
    "- 'saleEstimate_upperPrice' \n",
    "- 'saleEstimate_confidenceLevel'\n",
    "- 'saleEstimate_valueChange.numericChange'\n",
    "- 'saleEstimate_valueChange.percentageChange'\n",
    "- 'history_price'"
   ]
  },
  {
   "cell_type": "markdown",
   "metadata": {},
   "source": [
    "## Redundant Feature Removal"
   ]
  },
  {
   "cell_type": "markdown",
   "metadata": {},
   "source": [
    "#### Date columns"
   ]
  },
  {
   "cell_type": "code",
   "execution_count": 96,
   "metadata": {},
   "outputs": [],
   "source": [
    "# Dropping multiple date columns\n",
    "clean_house_df = clean_house_df.drop(columns=['saleEstimate_ingestedAt', 'saleEstimate_valueChange.saleDate', 'history_date'])"
   ]
  },
  {
   "cell_type": "markdown",
   "metadata": {},
   "source": [
    "#### fullAddress column"
   ]
  },
  {
   "cell_type": "code",
   "execution_count": 97,
   "metadata": {},
   "outputs": [
    {
     "name": "stdout",
     "output_type": "stream",
     "text": [
      "The fullAddress column has 82613 unique values\n"
     ]
    }
   ],
   "source": [
    "# Count the number of unique values in the 'fullAddress' column\n",
    "print(f\"The fullAddress column has {clean_house_df['fullAddress'].nunique()} unique values\")\n",
    "\n",
    "# Dropping column\n",
    "clean_house_df = clean_house_df.drop('fullAddress', axis=1)\n"
   ]
  },
  {
   "cell_type": "markdown",
   "metadata": {},
   "source": [
    "#### postcode column"
   ]
  },
  {
   "cell_type": "code",
   "execution_count": 98,
   "metadata": {},
   "outputs": [
    {
     "name": "stdout",
     "output_type": "stream",
     "text": [
      "The postcode column has 38578 unique values\n"
     ]
    }
   ],
   "source": [
    "# Count the number of unique values in the 'postcode' column\n",
    "print(f\"The postcode column has {clean_house_df['postcode'].nunique()} unique values\")\n",
    "\n",
    "# Dropping column\n",
    "clean_house_df = clean_house_df.drop('postcode', axis=1)"
   ]
  },
  {
   "cell_type": "markdown",
   "metadata": {},
   "source": [
    "#### outcode column"
   ]
  },
  {
   "cell_type": "code",
   "execution_count": 99,
   "metadata": {},
   "outputs": [
    {
     "name": "stdout",
     "output_type": "stream",
     "text": [
      "The outcode column has 167 unique values\n"
     ]
    }
   ],
   "source": [
    "# Count the number of unique values in the 'outcode' column\n",
    "print(f\"The outcode column has {clean_house_df['outcode'].nunique()} unique values\")\n",
    "\n",
    "# Dropping column\n",
    "clean_house_df = clean_house_df.drop('outcode', axis=1)"
   ]
  },
  {
   "cell_type": "markdown",
   "metadata": {},
   "source": [
    "#### Leakage columns"
   ]
  },
  {
   "cell_type": "code",
   "execution_count": 100,
   "metadata": {},
   "outputs": [],
   "source": [
    "# Dropping leakage columns\n",
    "clean_house_df = clean_house_df.drop(columns=['rentEstimate_lowerPrice', 'rentEstimate_currentPrice', 'rentEstimate_upperPrice','saleEstimate_lowerPrice', 'saleEstimate_upperPrice', 'saleEstimate_confidenceLevel', 'saleEstimate_valueChange.numericChange', 'saleEstimate_valueChange.percentageChange', 'history_price'])"
   ]
  },
  {
   "cell_type": "markdown",
   "metadata": {},
   "source": [
    "## Feature Engineering"
   ]
  },
  {
   "cell_type": "markdown",
   "metadata": {},
   "source": [
    "#### tenure column\n"
   ]
  },
  {
   "cell_type": "code",
   "execution_count": 101,
   "metadata": {},
   "outputs": [
    {
     "name": "stdout",
     "output_type": "stream",
     "text": [
      "The tenure column has 4 unique values\n",
      "['Leasehold' 'Freehold' 'Feudal' 'Shared']\n"
     ]
    }
   ],
   "source": [
    "# Count the number of unique values in the 'tenure' column\n",
    "print(f\"The tenure column has {clean_house_df['tenure'].nunique()} unique values\")\n",
    "\n",
    "# Unique values in the column\n",
    "tenure_unique_values = clean_house_df['tenure'].unique()\n",
    "\n",
    "# Displaying the unique values\n",
    "print(tenure_unique_values)"
   ]
  },
  {
   "cell_type": "code",
   "execution_count": 102,
   "metadata": {},
   "outputs": [],
   "source": [
    "# Initialising OneHotEncoder\n",
    "encoder = OneHotEncoder(sparse_output=False, drop=None)  \n",
    "\n",
    "# Fit and transform the data\n",
    "tenure_encoded = encoder.fit_transform(clean_house_df[['tenure']])\n",
    "\n",
    "# Converting the result to a DataFrame\n",
    "tenure_encoded_df = pd.DataFrame(tenure_encoded, columns=encoder.get_feature_names_out(['tenure']))\n",
    "\n",
    "# Concatenating the one-hot encoded columns with the original dataframe\n",
    "clean_house_df = pd.concat([clean_house_df, tenure_encoded_df], axis=1)\n",
    "\n",
    "# Drop the original column\n",
    "clean_house_df = clean_house_df.drop('tenure', axis=1)"
   ]
  },
  {
   "cell_type": "markdown",
   "metadata": {},
   "source": [
    "#### propertyType column"
   ]
  },
  {
   "cell_type": "code",
   "execution_count": 103,
   "metadata": {},
   "outputs": [
    {
     "name": "stdout",
     "output_type": "stream",
     "text": [
      "The propertyType column has 19 unique values\n",
      "['Flat/Maisonette' 'End Terrace House' 'Mid Terrace House'\n",
      " 'Terrace Property' 'Semi-Detached House' 'Converted Flat'\n",
      " 'Purpose Built Flat' 'Detached House' 'Bungalow Property' 'Terraced'\n",
      " 'Detached Bungalow' 'Mid Terrace Property' 'Semi-Detached Bungalow'\n",
      " 'End Terrace Property' 'Terraced Bungalow' 'Mid Terrace Bungalow'\n",
      " 'Semi-Detached Property' 'Detached Property' 'End Terrace Bungalow']\n"
     ]
    }
   ],
   "source": [
    "# Count the number of unique values in the 'propertyType' column\n",
    "print(f\"The propertyType column has {clean_house_df['propertyType'].nunique()} unique values\")\n",
    "\n",
    "# Unique values in the column\n",
    "property_unique_values = clean_house_df['propertyType'].unique()\n",
    "\n",
    "# Displaying the unique values\n",
    "print(property_unique_values)"
   ]
  },
  {
   "cell_type": "markdown",
   "metadata": {},
   "source": [
    "Process:\n",
    "- The categories should be binned before one hot encoding\n",
    "- Binned based on structural properties\n"
   ]
  },
  {
   "cell_type": "code",
   "execution_count": 104,
   "metadata": {},
   "outputs": [
    {
     "name": "stdout",
     "output_type": "stream",
     "text": [
      "0.13500757772337363\n"
     ]
    }
   ],
   "source": [
    "bungalow_num = clean_house_df['propertyType'].value_counts().get('Bungalow Property', 0)\n",
    "total_num = len(clean_house_df['propertyType'])\n",
    "\n",
    "proportion_bungalow = (bungalow_num/total_num) * 100 \n",
    "\n",
    "print(proportion_bungalow)"
   ]
  },
  {
   "cell_type": "markdown",
   "metadata": {},
   "source": [
    "Bungalow Property is a category that is a very small proportion of the whole propertyType column, so it can be removed without any significant changes in the data."
   ]
  },
  {
   "cell_type": "code",
   "execution_count": 105,
   "metadata": {},
   "outputs": [],
   "source": [
    "# Find indices of rows where the PropertyType is 'Bungalow Property'\n",
    "indices_to_drop = clean_house_df[clean_house_df['propertyType'] == 'Bungalow Property'].index\n",
    "\n",
    "# Drop these rows using the drop method\n",
    "clean_house_df = clean_house_df.drop(indices_to_drop)"
   ]
  },
  {
   "cell_type": "code",
   "execution_count": 106,
   "metadata": {},
   "outputs": [
    {
     "data": {
      "text/plain": [
       "propertyType\n",
       "Purpose Built Flat        75555\n",
       "Mid Terrace House         51124\n",
       "Flat/Maisonette           42611\n",
       "Converted Flat            32327\n",
       "Semi-Detached House       22580\n",
       "Terrace Property          18241\n",
       "End Terrace House         14925\n",
       "Detached House             7114\n",
       "Semi-Detached Bungalow      261\n",
       "Detached Bungalow           196\n",
       "Terraced                    192\n",
       "End Terrace Property        126\n",
       "Semi-Detached Property       76\n",
       "Detached Property            63\n",
       "Mid Terrace Bungalow         57\n",
       "Terraced Bungalow            47\n",
       "End Terrace Bungalow         37\n",
       "Mid Terrace Property         20\n",
       "Name: count, dtype: int64"
      ]
     },
     "execution_count": 106,
     "metadata": {},
     "output_type": "execute_result"
    }
   ],
   "source": [
    "# Checking to see if 'Bugalow Property' has been successfully removed\n",
    "clean_house_df['propertyType'].value_counts()"
   ]
  },
  {
   "cell_type": "code",
   "execution_count": 107,
   "metadata": {},
   "outputs": [],
   "source": [
    "# Function to categorize property types based on key substrings\n",
    "def categorize_propertyType(propertyType):\n",
    "    if 'Flat' in propertyType:\n",
    "        return 'Flat'\n",
    "    elif 'Semi-Detached' in propertyType:\n",
    "        return 'Semi-Detached'\n",
    "    elif 'Terrace' in propertyType or 'Terraced' in propertyType:\n",
    "        return 'Terraced'\n",
    "    elif 'Detached' in propertyType:\n",
    "        return 'Detached'\n",
    "    else:\n",
    "        return 'Other'  # Catch-all for anything not matching above categories"
   ]
  },
  {
   "cell_type": "code",
   "execution_count": 108,
   "metadata": {},
   "outputs": [],
   "source": [
    "# Apply the categorization function to the 'PropertyType' column\n",
    "clean_house_df['propertyType'] = clean_house_df['propertyType'].apply(categorize_propertyType)"
   ]
  },
  {
   "cell_type": "code",
   "execution_count": 109,
   "metadata": {},
   "outputs": [
    {
     "data": {
      "text/html": [
       "<div>\n",
       "<style scoped>\n",
       "    .dataframe tbody tr th:only-of-type {\n",
       "        vertical-align: middle;\n",
       "    }\n",
       "\n",
       "    .dataframe tbody tr th {\n",
       "        vertical-align: top;\n",
       "    }\n",
       "\n",
       "    .dataframe thead th {\n",
       "        text-align: right;\n",
       "    }\n",
       "</style>\n",
       "<table border=\"1\" class=\"dataframe\">\n",
       "  <thead>\n",
       "    <tr style=\"text-align: right;\">\n",
       "      <th></th>\n",
       "      <th>latitude</th>\n",
       "      <th>longitude</th>\n",
       "      <th>bathrooms</th>\n",
       "      <th>bedrooms</th>\n",
       "      <th>floorAreaSqM</th>\n",
       "      <th>livingRooms</th>\n",
       "      <th>propertyType</th>\n",
       "      <th>currentEnergyRating</th>\n",
       "      <th>saleEstimate_currentPrice</th>\n",
       "      <th>tenure_Feudal</th>\n",
       "      <th>tenure_Freehold</th>\n",
       "      <th>tenure_Leasehold</th>\n",
       "      <th>tenure_Shared</th>\n",
       "    </tr>\n",
       "  </thead>\n",
       "  <tbody>\n",
       "    <tr>\n",
       "      <th>0</th>\n",
       "      <td>51.495505</td>\n",
       "      <td>-0.132379</td>\n",
       "      <td>2.0</td>\n",
       "      <td>2.0</td>\n",
       "      <td>71.0</td>\n",
       "      <td>1.0</td>\n",
       "      <td>Flat</td>\n",
       "      <td>C</td>\n",
       "      <td>759000.0</td>\n",
       "      <td>0.0</td>\n",
       "      <td>0.0</td>\n",
       "      <td>1.0</td>\n",
       "      <td>0.0</td>\n",
       "    </tr>\n",
       "    <tr>\n",
       "      <th>1</th>\n",
       "      <td>51.478185</td>\n",
       "      <td>-0.092201</td>\n",
       "      <td>1.0</td>\n",
       "      <td>1.0</td>\n",
       "      <td>64.0</td>\n",
       "      <td>1.0</td>\n",
       "      <td>Flat</td>\n",
       "      <td>D</td>\n",
       "      <td>388000.0</td>\n",
       "      <td>0.0</td>\n",
       "      <td>0.0</td>\n",
       "      <td>1.0</td>\n",
       "      <td>0.0</td>\n",
       "    </tr>\n",
       "    <tr>\n",
       "      <th>2</th>\n",
       "      <td>51.588774</td>\n",
       "      <td>-0.139599</td>\n",
       "      <td>1.0</td>\n",
       "      <td>4.0</td>\n",
       "      <td>137.0</td>\n",
       "      <td>2.0</td>\n",
       "      <td>Terraced</td>\n",
       "      <td>D</td>\n",
       "      <td>1261000.0</td>\n",
       "      <td>0.0</td>\n",
       "      <td>1.0</td>\n",
       "      <td>0.0</td>\n",
       "      <td>0.0</td>\n",
       "    </tr>\n",
       "    <tr>\n",
       "      <th>3</th>\n",
       "      <td>51.466089</td>\n",
       "      <td>0.006967</td>\n",
       "      <td>1.0</td>\n",
       "      <td>2.0</td>\n",
       "      <td>97.0</td>\n",
       "      <td>1.0</td>\n",
       "      <td>Terraced</td>\n",
       "      <td>D</td>\n",
       "      <td>944000.0</td>\n",
       "      <td>0.0</td>\n",
       "      <td>1.0</td>\n",
       "      <td>0.0</td>\n",
       "      <td>0.0</td>\n",
       "    </tr>\n",
       "    <tr>\n",
       "      <th>4</th>\n",
       "      <td>51.451327</td>\n",
       "      <td>-0.007569</td>\n",
       "      <td>1.0</td>\n",
       "      <td>3.0</td>\n",
       "      <td>135.0</td>\n",
       "      <td>2.0</td>\n",
       "      <td>Terraced</td>\n",
       "      <td>E</td>\n",
       "      <td>726000.0</td>\n",
       "      <td>0.0</td>\n",
       "      <td>1.0</td>\n",
       "      <td>0.0</td>\n",
       "      <td>0.0</td>\n",
       "    </tr>\n",
       "    <tr>\n",
       "      <th>5</th>\n",
       "      <td>51.583106</td>\n",
       "      <td>-0.002184</td>\n",
       "      <td>1.0</td>\n",
       "      <td>4.0</td>\n",
       "      <td>117.0</td>\n",
       "      <td>2.0</td>\n",
       "      <td>Terraced</td>\n",
       "      <td>D</td>\n",
       "      <td>920000.0</td>\n",
       "      <td>0.0</td>\n",
       "      <td>1.0</td>\n",
       "      <td>0.0</td>\n",
       "      <td>0.0</td>\n",
       "    </tr>\n",
       "    <tr>\n",
       "      <th>6</th>\n",
       "      <td>51.588774</td>\n",
       "      <td>-0.139599</td>\n",
       "      <td>1.0</td>\n",
       "      <td>4.0</td>\n",
       "      <td>137.0</td>\n",
       "      <td>2.0</td>\n",
       "      <td>Terraced</td>\n",
       "      <td>D</td>\n",
       "      <td>1267000.0</td>\n",
       "      <td>0.0</td>\n",
       "      <td>1.0</td>\n",
       "      <td>0.0</td>\n",
       "      <td>0.0</td>\n",
       "    </tr>\n",
       "    <tr>\n",
       "      <th>7</th>\n",
       "      <td>51.624030</td>\n",
       "      <td>-0.020209</td>\n",
       "      <td>2.0</td>\n",
       "      <td>4.0</td>\n",
       "      <td>142.0</td>\n",
       "      <td>2.0</td>\n",
       "      <td>Semi-Detached</td>\n",
       "      <td>D</td>\n",
       "      <td>600000.0</td>\n",
       "      <td>0.0</td>\n",
       "      <td>1.0</td>\n",
       "      <td>0.0</td>\n",
       "      <td>0.0</td>\n",
       "    </tr>\n",
       "    <tr>\n",
       "      <th>8</th>\n",
       "      <td>51.624030</td>\n",
       "      <td>-0.020209</td>\n",
       "      <td>2.0</td>\n",
       "      <td>4.0</td>\n",
       "      <td>142.0</td>\n",
       "      <td>2.0</td>\n",
       "      <td>Semi-Detached</td>\n",
       "      <td>D</td>\n",
       "      <td>589000.0</td>\n",
       "      <td>0.0</td>\n",
       "      <td>1.0</td>\n",
       "      <td>0.0</td>\n",
       "      <td>0.0</td>\n",
       "    </tr>\n",
       "    <tr>\n",
       "      <th>9</th>\n",
       "      <td>51.491719</td>\n",
       "      <td>-0.189176</td>\n",
       "      <td>2.0</td>\n",
       "      <td>2.0</td>\n",
       "      <td>96.0</td>\n",
       "      <td>2.0</td>\n",
       "      <td>Flat</td>\n",
       "      <td>C</td>\n",
       "      <td>1706000.0</td>\n",
       "      <td>0.0</td>\n",
       "      <td>0.0</td>\n",
       "      <td>1.0</td>\n",
       "      <td>0.0</td>\n",
       "    </tr>\n",
       "  </tbody>\n",
       "</table>\n",
       "</div>"
      ],
      "text/plain": [
       "    latitude  longitude  bathrooms  bedrooms  floorAreaSqM  livingRooms  \\\n",
       "0  51.495505  -0.132379        2.0       2.0          71.0          1.0   \n",
       "1  51.478185  -0.092201        1.0       1.0          64.0          1.0   \n",
       "2  51.588774  -0.139599        1.0       4.0         137.0          2.0   \n",
       "3  51.466089   0.006967        1.0       2.0          97.0          1.0   \n",
       "4  51.451327  -0.007569        1.0       3.0         135.0          2.0   \n",
       "5  51.583106  -0.002184        1.0       4.0         117.0          2.0   \n",
       "6  51.588774  -0.139599        1.0       4.0         137.0          2.0   \n",
       "7  51.624030  -0.020209        2.0       4.0         142.0          2.0   \n",
       "8  51.624030  -0.020209        2.0       4.0         142.0          2.0   \n",
       "9  51.491719  -0.189176        2.0       2.0          96.0          2.0   \n",
       "\n",
       "    propertyType currentEnergyRating  saleEstimate_currentPrice  \\\n",
       "0           Flat                   C                   759000.0   \n",
       "1           Flat                   D                   388000.0   \n",
       "2       Terraced                   D                  1261000.0   \n",
       "3       Terraced                   D                   944000.0   \n",
       "4       Terraced                   E                   726000.0   \n",
       "5       Terraced                   D                   920000.0   \n",
       "6       Terraced                   D                  1267000.0   \n",
       "7  Semi-Detached                   D                   600000.0   \n",
       "8  Semi-Detached                   D                   589000.0   \n",
       "9           Flat                   C                  1706000.0   \n",
       "\n",
       "   tenure_Feudal  tenure_Freehold  tenure_Leasehold  tenure_Shared  \n",
       "0            0.0              0.0               1.0            0.0  \n",
       "1            0.0              0.0               1.0            0.0  \n",
       "2            0.0              1.0               0.0            0.0  \n",
       "3            0.0              1.0               0.0            0.0  \n",
       "4            0.0              1.0               0.0            0.0  \n",
       "5            0.0              1.0               0.0            0.0  \n",
       "6            0.0              1.0               0.0            0.0  \n",
       "7            0.0              1.0               0.0            0.0  \n",
       "8            0.0              1.0               0.0            0.0  \n",
       "9            0.0              0.0               1.0            0.0  "
      ]
     },
     "execution_count": 109,
     "metadata": {},
     "output_type": "execute_result"
    }
   ],
   "source": [
    "# Checking if Binning process is successful\n",
    "clean_house_df.head(10)"
   ]
  },
  {
   "cell_type": "code",
   "execution_count": 110,
   "metadata": {},
   "outputs": [],
   "source": [
    "# Initialising OneHotEncoder\n",
    "property_encoder = OneHotEncoder(sparse_output=False, drop=None)  \n",
    "\n",
    "# Fit and transform the data\n",
    "property_encoded = property_encoder.fit_transform(clean_house_df[['propertyType']])\n",
    "\n",
    "# Converting the result to a DataFrame\n",
    "property_encoded_df = pd.DataFrame(property_encoded, columns=property_encoder.get_feature_names_out(['propertyType']))\n",
    "\n",
    "# Concatenating the one-hot encoded columns with the original dataframe\n",
    "clean_house_df = pd.concat([clean_house_df, property_encoded_df], axis=1)\n",
    "\n",
    "# Drop the original column\n",
    "clean_house_df = clean_house_df.drop('propertyType', axis=1)"
   ]
  },
  {
   "cell_type": "markdown",
   "metadata": {},
   "source": [
    "#### currentEnergyRating column"
   ]
  },
  {
   "cell_type": "code",
   "execution_count": 111,
   "metadata": {},
   "outputs": [
    {
     "name": "stdout",
     "output_type": "stream",
     "text": [
      "The currentEnergyRating column has 7 unique values\n",
      "['C' 'D' 'E' 'G' 'B' 'F' 'A' nan]\n"
     ]
    }
   ],
   "source": [
    "# Count the number of unique values in the 'currentEnergyRating' column\n",
    "print(f\"The currentEnergyRating column has {clean_house_df['currentEnergyRating'].nunique()} unique values\")\n",
    "\n",
    "# Unique values in the column\n",
    "energy_unique_values = clean_house_df['currentEnergyRating'].unique()\n",
    "\n",
    "# Displaying the unique values\n",
    "print(energy_unique_values)"
   ]
  },
  {
   "cell_type": "code",
   "execution_count": 114,
   "metadata": {},
   "outputs": [],
   "source": [
    "clean_house_df = clean_house_df.dropna()"
   ]
  },
  {
   "cell_type": "code",
   "execution_count": 115,
   "metadata": {},
   "outputs": [],
   "source": [
    "# Order of categories\n",
    "categories = [['A', 'B', 'C', 'D', 'E', 'F', 'G']]\n",
    "\n",
    "# Initialising encoder\n",
    "encoder = OrdinalEncoder(categories=categories)\n",
    "\n",
    "# Fit and transform the data\n",
    "energy_encoded = encoder.fit_transform(clean_house_df[['currentEnergyRating']])\n",
    "\n",
    "# Adding the encoded values to the dataframe\n",
    "clean_house_df['currentEnergyRating_encoded'] = energy_encoded\n",
    "\n",
    "# Drop the original column\n",
    "clean_house_df = clean_house_df.drop('currentEnergyRating', axis=1)"
   ]
  },
  {
   "cell_type": "markdown",
   "metadata": {},
   "source": [
    "## Pre-processed Data Review"
   ]
  },
  {
   "cell_type": "code",
   "execution_count": 116,
   "metadata": {},
   "outputs": [
    {
     "data": {
      "text/html": [
       "<div>\n",
       "<style scoped>\n",
       "    .dataframe tbody tr th:only-of-type {\n",
       "        vertical-align: middle;\n",
       "    }\n",
       "\n",
       "    .dataframe tbody tr th {\n",
       "        vertical-align: top;\n",
       "    }\n",
       "\n",
       "    .dataframe thead th {\n",
       "        text-align: right;\n",
       "    }\n",
       "</style>\n",
       "<table border=\"1\" class=\"dataframe\">\n",
       "  <thead>\n",
       "    <tr style=\"text-align: right;\">\n",
       "      <th></th>\n",
       "      <th>latitude</th>\n",
       "      <th>longitude</th>\n",
       "      <th>bathrooms</th>\n",
       "      <th>bedrooms</th>\n",
       "      <th>floorAreaSqM</th>\n",
       "      <th>livingRooms</th>\n",
       "      <th>saleEstimate_currentPrice</th>\n",
       "      <th>tenure_Feudal</th>\n",
       "      <th>tenure_Freehold</th>\n",
       "      <th>tenure_Leasehold</th>\n",
       "      <th>tenure_Shared</th>\n",
       "      <th>propertyType_Detached</th>\n",
       "      <th>propertyType_Flat</th>\n",
       "      <th>propertyType_Semi-Detached</th>\n",
       "      <th>propertyType_Terraced</th>\n",
       "      <th>currentEnergyRating_encoded</th>\n",
       "    </tr>\n",
       "  </thead>\n",
       "  <tbody>\n",
       "    <tr>\n",
       "      <th>0</th>\n",
       "      <td>51.495505</td>\n",
       "      <td>-0.132379</td>\n",
       "      <td>2.0</td>\n",
       "      <td>2.0</td>\n",
       "      <td>71.0</td>\n",
       "      <td>1.0</td>\n",
       "      <td>759000.0</td>\n",
       "      <td>0.0</td>\n",
       "      <td>0.0</td>\n",
       "      <td>1.0</td>\n",
       "      <td>0.0</td>\n",
       "      <td>0.0</td>\n",
       "      <td>1.0</td>\n",
       "      <td>0.0</td>\n",
       "      <td>0.0</td>\n",
       "      <td>2.0</td>\n",
       "    </tr>\n",
       "    <tr>\n",
       "      <th>1</th>\n",
       "      <td>51.478185</td>\n",
       "      <td>-0.092201</td>\n",
       "      <td>1.0</td>\n",
       "      <td>1.0</td>\n",
       "      <td>64.0</td>\n",
       "      <td>1.0</td>\n",
       "      <td>388000.0</td>\n",
       "      <td>0.0</td>\n",
       "      <td>0.0</td>\n",
       "      <td>1.0</td>\n",
       "      <td>0.0</td>\n",
       "      <td>0.0</td>\n",
       "      <td>1.0</td>\n",
       "      <td>0.0</td>\n",
       "      <td>0.0</td>\n",
       "      <td>3.0</td>\n",
       "    </tr>\n",
       "    <tr>\n",
       "      <th>2</th>\n",
       "      <td>51.588774</td>\n",
       "      <td>-0.139599</td>\n",
       "      <td>1.0</td>\n",
       "      <td>4.0</td>\n",
       "      <td>137.0</td>\n",
       "      <td>2.0</td>\n",
       "      <td>1261000.0</td>\n",
       "      <td>0.0</td>\n",
       "      <td>1.0</td>\n",
       "      <td>0.0</td>\n",
       "      <td>0.0</td>\n",
       "      <td>0.0</td>\n",
       "      <td>0.0</td>\n",
       "      <td>0.0</td>\n",
       "      <td>1.0</td>\n",
       "      <td>3.0</td>\n",
       "    </tr>\n",
       "    <tr>\n",
       "      <th>3</th>\n",
       "      <td>51.466089</td>\n",
       "      <td>0.006967</td>\n",
       "      <td>1.0</td>\n",
       "      <td>2.0</td>\n",
       "      <td>97.0</td>\n",
       "      <td>1.0</td>\n",
       "      <td>944000.0</td>\n",
       "      <td>0.0</td>\n",
       "      <td>1.0</td>\n",
       "      <td>0.0</td>\n",
       "      <td>0.0</td>\n",
       "      <td>0.0</td>\n",
       "      <td>0.0</td>\n",
       "      <td>0.0</td>\n",
       "      <td>1.0</td>\n",
       "      <td>3.0</td>\n",
       "    </tr>\n",
       "    <tr>\n",
       "      <th>4</th>\n",
       "      <td>51.451327</td>\n",
       "      <td>-0.007569</td>\n",
       "      <td>1.0</td>\n",
       "      <td>3.0</td>\n",
       "      <td>135.0</td>\n",
       "      <td>2.0</td>\n",
       "      <td>726000.0</td>\n",
       "      <td>0.0</td>\n",
       "      <td>1.0</td>\n",
       "      <td>0.0</td>\n",
       "      <td>0.0</td>\n",
       "      <td>0.0</td>\n",
       "      <td>0.0</td>\n",
       "      <td>0.0</td>\n",
       "      <td>1.0</td>\n",
       "      <td>4.0</td>\n",
       "    </tr>\n",
       "  </tbody>\n",
       "</table>\n",
       "</div>"
      ],
      "text/plain": [
       "    latitude  longitude  bathrooms  bedrooms  floorAreaSqM  livingRooms  \\\n",
       "0  51.495505  -0.132379        2.0       2.0          71.0          1.0   \n",
       "1  51.478185  -0.092201        1.0       1.0          64.0          1.0   \n",
       "2  51.588774  -0.139599        1.0       4.0         137.0          2.0   \n",
       "3  51.466089   0.006967        1.0       2.0          97.0          1.0   \n",
       "4  51.451327  -0.007569        1.0       3.0         135.0          2.0   \n",
       "\n",
       "   saleEstimate_currentPrice  tenure_Feudal  tenure_Freehold  \\\n",
       "0                   759000.0            0.0              0.0   \n",
       "1                   388000.0            0.0              0.0   \n",
       "2                  1261000.0            0.0              1.0   \n",
       "3                   944000.0            0.0              1.0   \n",
       "4                   726000.0            0.0              1.0   \n",
       "\n",
       "   tenure_Leasehold  tenure_Shared  propertyType_Detached  propertyType_Flat  \\\n",
       "0               1.0            0.0                    0.0                1.0   \n",
       "1               1.0            0.0                    0.0                1.0   \n",
       "2               0.0            0.0                    0.0                0.0   \n",
       "3               0.0            0.0                    0.0                0.0   \n",
       "4               0.0            0.0                    0.0                0.0   \n",
       "\n",
       "   propertyType_Semi-Detached  propertyType_Terraced  \\\n",
       "0                         0.0                    0.0   \n",
       "1                         0.0                    0.0   \n",
       "2                         0.0                    1.0   \n",
       "3                         0.0                    1.0   \n",
       "4                         0.0                    1.0   \n",
       "\n",
       "   currentEnergyRating_encoded  \n",
       "0                          2.0  \n",
       "1                          3.0  \n",
       "2                          3.0  \n",
       "3                          3.0  \n",
       "4                          4.0  "
      ]
     },
     "execution_count": 116,
     "metadata": {},
     "output_type": "execute_result"
    }
   ],
   "source": [
    "# Viewing DataFrame post-conversions\n",
    "clean_house_df.head(5)"
   ]
  },
  {
   "cell_type": "code",
   "execution_count": 117,
   "metadata": {},
   "outputs": [
    {
     "name": "stdout",
     "output_type": "stream",
     "text": [
      "<class 'pandas.core.frame.DataFrame'>\n",
      "Index: 265193 entries, 0 to 265551\n",
      "Data columns (total 16 columns):\n",
      " #   Column                       Non-Null Count   Dtype  \n",
      "---  ------                       --------------   -----  \n",
      " 0   latitude                     265193 non-null  float64\n",
      " 1   longitude                    265193 non-null  float64\n",
      " 2   bathrooms                    265193 non-null  float64\n",
      " 3   bedrooms                     265193 non-null  float64\n",
      " 4   floorAreaSqM                 265193 non-null  float64\n",
      " 5   livingRooms                  265193 non-null  float64\n",
      " 6   saleEstimate_currentPrice    265193 non-null  float64\n",
      " 7   tenure_Feudal                265193 non-null  float64\n",
      " 8   tenure_Freehold              265193 non-null  float64\n",
      " 9   tenure_Leasehold             265193 non-null  float64\n",
      " 10  tenure_Shared                265193 non-null  float64\n",
      " 11  propertyType_Detached        265193 non-null  float64\n",
      " 12  propertyType_Flat            265193 non-null  float64\n",
      " 13  propertyType_Semi-Detached   265193 non-null  float64\n",
      " 14  propertyType_Terraced        265193 non-null  float64\n",
      " 15  currentEnergyRating_encoded  265193 non-null  float64\n",
      "dtypes: float64(16)\n",
      "memory usage: 34.4 MB\n"
     ]
    }
   ],
   "source": [
    "# Rows and columns post encoding\n",
    "clean_house_df.info()"
   ]
  },
  {
   "cell_type": "markdown",
   "metadata": {},
   "source": [
    "## Multi-collinearity"
   ]
  },
  {
   "cell_type": "markdown",
   "metadata": {},
   "source": [
    "Independent variables must not be too strongly correlated with one another, those which show high levels of multi-collinearity must be removed."
   ]
  },
  {
   "cell_type": "code",
   "execution_count": 118,
   "metadata": {},
   "outputs": [
    {
     "name": "stderr",
     "output_type": "stream",
     "text": [
      "c:\\Users\\sanja\\anaconda3\\envs\\ml_env\\Lib\\site-packages\\seaborn\\matrix.py:260: FutureWarning: Format strings passed to MaskedConstant are ignored, but in future may error or produce different behavior\n",
      "  annotation = (\"{:\" + self.fmt + \"}\").format(val)\n"
     ]
    },
    {
     "data": {
      "image/png": "[encoded data removed]",
      "text/plain": [
       "<Figure size 1200x800 with 2 Axes>"
      ]
     },
     "metadata": {},
     "output_type": "display_data"
    }
   ],
   "source": [
    "# Splitting the target and features \n",
    "X = clean_house_df.drop('saleEstimate_currentPrice', axis=1)\n",
    "y = clean_house_df['saleEstimate_currentPrice']\n",
    "\n",
    "# Correlation matrix\n",
    "corr = X.corr()\n",
    "\n",
    "# Create a mask for the upper triangle\n",
    "mask = np.triu(np.ones_like(corr, dtype=bool))\n",
    "\n",
    "# Set up the matplotlib figure\n",
    "plt.figure(figsize=(12, 8))  \n",
    "\n",
    "# Draw the heatmap\n",
    "sns.heatmap(\n",
    "    data=corr,\n",
    "    mask=mask,\n",
    "    annot=True,\n",
    "    fmt=\".2f\",               \n",
    "    vmin=-1, vmax=1,\n",
    "    cmap=\"coolwarm\",\n",
    "    square=True,\n",
    "    linewidths=0.5,          \n",
    "    cbar_kws={\"shrink\": 0.75}  \n",
    ")\n",
    "\n",
    "plt.title(\"Correlations Between Independent Variables\", fontsize=16)\n",
    "plt.show()\n"
   ]
  },
  {
   "cell_type": "code",
   "execution_count": 119,
   "metadata": {},
   "outputs": [],
   "source": [
    "#X.corr().style_backgound_gradient(cmap='cool_warm')\n"
   ]
  },
  {
   "cell_type": "markdown",
   "metadata": {},
   "source": [
    "Tasks to do:\n",
    "- Get numbers to display\n",
    "- Find out which variables have a strong corr of 1 or -1\n",
    "- Work out corr of those variables between the target and keep the ones with highest corr\n",
    "- Remove the chosen columns from clean_house_df and then save it"
   ]
  },
  {
   "cell_type": "code",
   "execution_count": 120,
   "metadata": {},
   "outputs": [],
   "source": [
    "# Saving the cleaned version of the dataset\n",
    "clean_house_df.to_csv('london_house_price_data_pp.csv', index=False)"
   ]
  }
 ],
 "metadata": {
  "kernelspec": {
   "display_name": "ml_env",
   "language": "python",
   "name": "python3"
  },
  "language_info": {
   "codemirror_mode": {
    "name": "ipython",
    "version": 3
   },
   "file_extension": ".py",
   "mimetype": "text/x-python",
   "name": "python",
   "nbconvert_exporter": "python",
   "pygments_lexer": "ipython3",
   "version": "3.11.5"
  },
  "orig_nbformat": 4
 },
 "nbformat": 4,
 "nbformat_minor": 2
}

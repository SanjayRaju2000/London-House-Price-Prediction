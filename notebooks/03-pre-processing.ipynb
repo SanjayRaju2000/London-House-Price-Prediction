{
 "cells": [
  {
   "cell_type": "markdown",
   "metadata": {},
   "source": [
    "# Data Pre-processing"
   ]
  },
  {
   "cell_type": "markdown",
   "metadata": {},
   "source": [
    "## Notebook Summary"
   ]
  },
  {
   "cell_type": "markdown",
   "metadata": {},
   "source": [
    "This notebook focuses on preparing a cleaned dataset for linear modelling techniques, such as linear regression and ridge regression. The notebook details pre-processing steps, including standardising or normalising features to meet the assumptions of linear models. A key component is feature engineering, which involves creating or transforming variables to better capture underlying patterns and improve model performance. The dataset will be structured to ensure optimal performance and interpretability, providing a robust foundation for accurate predictive modelling using techniques such as linear regression and ridge regression."
   ]
  },
  {
   "cell_type": "markdown",
   "metadata": {},
   "source": [
    "## Notebook Setup"
   ]
  },
  {
   "cell_type": "code",
   "execution_count": 86,
   "metadata": {},
   "outputs": [],
   "source": [
    "# Imports\n",
    "import glob\n",
    "import numpy as np\n",
    "import pandas as pd\n",
    "import matplotlib.pyplot as plt\n",
    "import seaborn as sns\n",
    "import statsmodels.api as sm\n",
    "from scipy.stats import chi2_contingency\n",
    "from scipy.stats import pearsonr\n",
    "from sklearn.preprocessing import OneHotEncoder, OrdinalEncoder"
   ]
  },
  {
   "cell_type": "markdown",
   "metadata": {},
   "source": [
    "## Data Loading & Understanding"
   ]
  },
  {
   "cell_type": "code",
   "execution_count": 87,
   "metadata": {},
   "outputs": [
    {
     "data": {
      "text/html": [
       "<div>\n",
       "<style scoped>\n",
       "    .dataframe tbody tr th:only-of-type {\n",
       "        vertical-align: middle;\n",
       "    }\n",
       "\n",
       "    .dataframe tbody tr th {\n",
       "        vertical-align: top;\n",
       "    }\n",
       "\n",
       "    .dataframe thead th {\n",
       "        text-align: right;\n",
       "    }\n",
       "</style>\n",
       "<table border=\"1\" class=\"dataframe\">\n",
       "  <thead>\n",
       "    <tr style=\"text-align: right;\">\n",
       "      <th></th>\n",
       "      <th>fullAddress</th>\n",
       "      <th>postcode</th>\n",
       "      <th>outcode</th>\n",
       "      <th>latitude</th>\n",
       "      <th>longitude</th>\n",
       "      <th>bathrooms</th>\n",
       "      <th>bedrooms</th>\n",
       "      <th>floorAreaSqM</th>\n",
       "      <th>livingRooms</th>\n",
       "      <th>tenure</th>\n",
       "      <th>...</th>\n",
       "      <th>saleEstimate_lowerPrice</th>\n",
       "      <th>saleEstimate_currentPrice</th>\n",
       "      <th>saleEstimate_upperPrice</th>\n",
       "      <th>saleEstimate_confidenceLevel</th>\n",
       "      <th>saleEstimate_ingestedAt</th>\n",
       "      <th>saleEstimate_valueChange.numericChange</th>\n",
       "      <th>saleEstimate_valueChange.percentageChange</th>\n",
       "      <th>saleEstimate_valueChange.saleDate</th>\n",
       "      <th>history_date</th>\n",
       "      <th>history_price</th>\n",
       "    </tr>\n",
       "  </thead>\n",
       "  <tbody>\n",
       "    <tr>\n",
       "      <th>0</th>\n",
       "      <td>Flat 35, Octavia House, Medway Street, London,...</td>\n",
       "      <td>SW1P 2TA</td>\n",
       "      <td>SW1P</td>\n",
       "      <td>51.495505</td>\n",
       "      <td>-0.132379</td>\n",
       "      <td>2.0</td>\n",
       "      <td>2.0</td>\n",
       "      <td>71.0</td>\n",
       "      <td>1.0</td>\n",
       "      <td>Leasehold</td>\n",
       "      <td>...</td>\n",
       "      <td>683000.0</td>\n",
       "      <td>759000.0</td>\n",
       "      <td>834000.0</td>\n",
       "      <td>MEDIUM</td>\n",
       "      <td>2025-01-10T11:04:57.114Z</td>\n",
       "      <td>49000.0</td>\n",
       "      <td>6.901408</td>\n",
       "      <td>2019-09-04</td>\n",
       "      <td>1995-01-03</td>\n",
       "      <td>249950</td>\n",
       "    </tr>\n",
       "    <tr>\n",
       "      <th>1</th>\n",
       "      <td>24 Chester Court, Lomond Grove, London, SE5 7HS</td>\n",
       "      <td>SE5 7HS</td>\n",
       "      <td>SE5</td>\n",
       "      <td>51.478185</td>\n",
       "      <td>-0.092201</td>\n",
       "      <td>1.0</td>\n",
       "      <td>1.0</td>\n",
       "      <td>64.0</td>\n",
       "      <td>1.0</td>\n",
       "      <td>Leasehold</td>\n",
       "      <td>...</td>\n",
       "      <td>368000.0</td>\n",
       "      <td>388000.0</td>\n",
       "      <td>407000.0</td>\n",
       "      <td>HIGH</td>\n",
       "      <td>2024-10-07T13:26:59.894Z</td>\n",
       "      <td>28000.0</td>\n",
       "      <td>7.777778</td>\n",
       "      <td>2024-01-25</td>\n",
       "      <td>1995-01-03</td>\n",
       "      <td>32000</td>\n",
       "    </tr>\n",
       "    <tr>\n",
       "      <th>2</th>\n",
       "      <td>18 Alexandra Gardens, London, N10 3RL</td>\n",
       "      <td>N10 3RL</td>\n",
       "      <td>N10</td>\n",
       "      <td>51.588774</td>\n",
       "      <td>-0.139599</td>\n",
       "      <td>1.0</td>\n",
       "      <td>4.0</td>\n",
       "      <td>137.0</td>\n",
       "      <td>2.0</td>\n",
       "      <td>Freehold</td>\n",
       "      <td>...</td>\n",
       "      <td>1198000.0</td>\n",
       "      <td>1261000.0</td>\n",
       "      <td>1324000.0</td>\n",
       "      <td>HIGH</td>\n",
       "      <td>2024-10-07T13:26:59.894Z</td>\n",
       "      <td>81000.0</td>\n",
       "      <td>6.864407</td>\n",
       "      <td>2022-12-14</td>\n",
       "      <td>1995-01-03</td>\n",
       "      <td>133000</td>\n",
       "    </tr>\n",
       "    <tr>\n",
       "      <th>3</th>\n",
       "      <td>17 Collins Street, London, SE3 0UG</td>\n",
       "      <td>SE3 0UG</td>\n",
       "      <td>SE3</td>\n",
       "      <td>51.466089</td>\n",
       "      <td>0.006967</td>\n",
       "      <td>1.0</td>\n",
       "      <td>2.0</td>\n",
       "      <td>97.0</td>\n",
       "      <td>1.0</td>\n",
       "      <td>Freehold</td>\n",
       "      <td>...</td>\n",
       "      <td>897000.0</td>\n",
       "      <td>944000.0</td>\n",
       "      <td>991000.0</td>\n",
       "      <td>HIGH</td>\n",
       "      <td>2024-10-07T13:26:59.894Z</td>\n",
       "      <td>119000.0</td>\n",
       "      <td>14.424242</td>\n",
       "      <td>2021-09-30</td>\n",
       "      <td>1995-01-03</td>\n",
       "      <td>128500</td>\n",
       "    </tr>\n",
       "    <tr>\n",
       "      <th>4</th>\n",
       "      <td>14 Theodore Road, London, SE13 6HT</td>\n",
       "      <td>SE13 6HT</td>\n",
       "      <td>SE13</td>\n",
       "      <td>51.451327</td>\n",
       "      <td>-0.007569</td>\n",
       "      <td>1.0</td>\n",
       "      <td>3.0</td>\n",
       "      <td>135.0</td>\n",
       "      <td>2.0</td>\n",
       "      <td>Freehold</td>\n",
       "      <td>...</td>\n",
       "      <td>690000.0</td>\n",
       "      <td>726000.0</td>\n",
       "      <td>762000.0</td>\n",
       "      <td>HIGH</td>\n",
       "      <td>2024-10-07T13:26:59.894Z</td>\n",
       "      <td>71000.0</td>\n",
       "      <td>10.839695</td>\n",
       "      <td>2021-12-06</td>\n",
       "      <td>1995-01-03</td>\n",
       "      <td>75000</td>\n",
       "    </tr>\n",
       "  </tbody>\n",
       "</table>\n",
       "<p>5 rows × 25 columns</p>\n",
       "</div>"
      ],
      "text/plain": [
       "                                         fullAddress  postcode outcode  \\\n",
       "0  Flat 35, Octavia House, Medway Street, London,...  SW1P 2TA    SW1P   \n",
       "1    24 Chester Court, Lomond Grove, London, SE5 7HS   SE5 7HS     SE5   \n",
       "2              18 Alexandra Gardens, London, N10 3RL   N10 3RL     N10   \n",
       "3                 17 Collins Street, London, SE3 0UG   SE3 0UG     SE3   \n",
       "4                 14 Theodore Road, London, SE13 6HT  SE13 6HT    SE13   \n",
       "\n",
       "    latitude  longitude  bathrooms  bedrooms  floorAreaSqM  livingRooms  \\\n",
       "0  51.495505  -0.132379        2.0       2.0          71.0          1.0   \n",
       "1  51.478185  -0.092201        1.0       1.0          64.0          1.0   \n",
       "2  51.588774  -0.139599        1.0       4.0         137.0          2.0   \n",
       "3  51.466089   0.006967        1.0       2.0          97.0          1.0   \n",
       "4  51.451327  -0.007569        1.0       3.0         135.0          2.0   \n",
       "\n",
       "      tenure  ... saleEstimate_lowerPrice saleEstimate_currentPrice  \\\n",
       "0  Leasehold  ...                683000.0                  759000.0   \n",
       "1  Leasehold  ...                368000.0                  388000.0   \n",
       "2   Freehold  ...               1198000.0                 1261000.0   \n",
       "3   Freehold  ...                897000.0                  944000.0   \n",
       "4   Freehold  ...                690000.0                  726000.0   \n",
       "\n",
       "   saleEstimate_upperPrice  saleEstimate_confidenceLevel  \\\n",
       "0                 834000.0                        MEDIUM   \n",
       "1                 407000.0                          HIGH   \n",
       "2                1324000.0                          HIGH   \n",
       "3                 991000.0                          HIGH   \n",
       "4                 762000.0                          HIGH   \n",
       "\n",
       "    saleEstimate_ingestedAt  saleEstimate_valueChange.numericChange  \\\n",
       "0  2025-01-10T11:04:57.114Z                                 49000.0   \n",
       "1  2024-10-07T13:26:59.894Z                                 28000.0   \n",
       "2  2024-10-07T13:26:59.894Z                                 81000.0   \n",
       "3  2024-10-07T13:26:59.894Z                                119000.0   \n",
       "4  2024-10-07T13:26:59.894Z                                 71000.0   \n",
       "\n",
       "   saleEstimate_valueChange.percentageChange  \\\n",
       "0                                   6.901408   \n",
       "1                                   7.777778   \n",
       "2                                   6.864407   \n",
       "3                                  14.424242   \n",
       "4                                  10.839695   \n",
       "\n",
       "   saleEstimate_valueChange.saleDate history_date history_price  \n",
       "0                         2019-09-04   1995-01-03        249950  \n",
       "1                         2024-01-25   1995-01-03         32000  \n",
       "2                         2022-12-14   1995-01-03        133000  \n",
       "3                         2021-09-30   1995-01-03        128500  \n",
       "4                         2021-12-06   1995-01-03         75000  \n",
       "\n",
       "[5 rows x 25 columns]"
      ]
     },
     "execution_count": 87,
     "metadata": {},
     "output_type": "execute_result"
    }
   ],
   "source": [
    "# Creating DataFrame\n",
    "clean_house_df = pd.read_csv(\"london_house_price_data_clean.csv\")\n",
    "# Viewing DataFrame\n",
    "clean_house_df.head(5)"
   ]
  },
  {
   "cell_type": "code",
   "execution_count": 88,
   "metadata": {},
   "outputs": [
    {
     "name": "stdout",
     "output_type": "stream",
     "text": [
      "<class 'pandas.core.frame.DataFrame'>\n",
      "RangeIndex: 265911 entries, 0 to 265910\n",
      "Data columns (total 25 columns):\n",
      " #   Column                                     Non-Null Count   Dtype  \n",
      "---  ------                                     --------------   -----  \n",
      " 0   fullAddress                                265911 non-null  object \n",
      " 1   postcode                                   265911 non-null  object \n",
      " 2   outcode                                    265911 non-null  object \n",
      " 3   latitude                                   265911 non-null  float64\n",
      " 4   longitude                                  265911 non-null  float64\n",
      " 5   bathrooms                                  265911 non-null  float64\n",
      " 6   bedrooms                                   265911 non-null  float64\n",
      " 7   floorAreaSqM                               265911 non-null  float64\n",
      " 8   livingRooms                                265911 non-null  float64\n",
      " 9   tenure                                     265911 non-null  object \n",
      " 10  propertyType                               265911 non-null  object \n",
      " 11  currentEnergyRating                        265911 non-null  object \n",
      " 12  rentEstimate_lowerPrice                    265911 non-null  float64\n",
      " 13  rentEstimate_currentPrice                  265911 non-null  float64\n",
      " 14  rentEstimate_upperPrice                    265911 non-null  float64\n",
      " 15  saleEstimate_lowerPrice                    265911 non-null  float64\n",
      " 16  saleEstimate_currentPrice                  265911 non-null  float64\n",
      " 17  saleEstimate_upperPrice                    265911 non-null  float64\n",
      " 18  saleEstimate_confidenceLevel               265911 non-null  object \n",
      " 19  saleEstimate_ingestedAt                    265911 non-null  object \n",
      " 20  saleEstimate_valueChange.numericChange     265911 non-null  float64\n",
      " 21  saleEstimate_valueChange.percentageChange  265911 non-null  float64\n",
      " 22  saleEstimate_valueChange.saleDate          265911 non-null  object \n",
      " 23  history_date                               265911 non-null  object \n",
      " 24  history_price                              265911 non-null  int64  \n",
      "dtypes: float64(14), int64(1), object(10)\n",
      "memory usage: 50.7+ MB\n"
     ]
    }
   ],
   "source": [
    "# Columns and data types\n",
    "clean_house_df.info()"
   ]
  },
  {
   "cell_type": "code",
   "execution_count": 89,
   "metadata": {},
   "outputs": [
    {
     "name": "stdout",
     "output_type": "stream",
     "text": [
      "The data has 265911 rows and 25 columns\n"
     ]
    }
   ],
   "source": [
    "# Shape of the data\n",
    "rows, cols = clean_house_df.shape\n",
    "print(f\"The data has {rows} rows and {cols} columns\")"
   ]
  },
  {
   "cell_type": "markdown",
   "metadata": {},
   "source": [
    "### Identification of categorical columns"
   ]
  },
  {
   "cell_type": "markdown",
   "metadata": {},
   "source": [
    "The data input for regression models must be strictly numerical, necessitating the transformation of categorical variables into a suitable numerical format. This ensures compatibility with the mathematical foundations of regression algorithms.\n",
    "\n",
    "- 'fullAddress'\n",
    "- 'postcode'\n",
    "- 'outcode'\n",
    "- 'tenure'\n",
    "- 'propertyType'\n",
    "- 'currentEnergyRating'\n",
    "- 'saleEstimate_confidenceLevel' "
   ]
  },
  {
   "cell_type": "markdown",
   "metadata": {},
   "source": [
    "### Date columns\n",
    "\n",
    "Dates are typically stored as strings or datetime objects, which are not directly interpretable by the model. Therefore date values should be promptly removed. \n",
    "\n",
    "- 'saleEstimate_ingestedAt' \n",
    "- 'saleEstimate_valueChange.saleDate' \n",
    "- 'history_date'    "
   ]
  },
  {
   "cell_type": "markdown",
   "metadata": {},
   "source": [
    "## Redundant Feature Removal"
   ]
  },
  {
   "cell_type": "markdown",
   "metadata": {},
   "source": [
    "#### date columns"
   ]
  },
  {
   "cell_type": "code",
   "execution_count": 90,
   "metadata": {},
   "outputs": [],
   "source": [
    "# Dropping multiple date columns\n",
    "clean_house_df = clean_house_df.drop(columns=['saleEstimate_ingestedAt', 'saleEstimate_valueChange.saleDate', 'history_date'])"
   ]
  },
  {
   "cell_type": "markdown",
   "metadata": {},
   "source": [
    "#### fullAddress column"
   ]
  },
  {
   "cell_type": "code",
   "execution_count": 91,
   "metadata": {},
   "outputs": [
    {
     "name": "stdout",
     "output_type": "stream",
     "text": [
      "The fullAddress column has 82613 unique values\n"
     ]
    }
   ],
   "source": [
    "# Count the number of unique values in the 'fullAddress' column\n",
    "print(f\"The fullAddress column has {clean_house_df['fullAddress'].nunique()} unique values\")\n",
    "\n",
    "# Dropping column\n",
    "clean_house_df = clean_house_df.drop('fullAddress', axis=1)\n"
   ]
  },
  {
   "cell_type": "markdown",
   "metadata": {},
   "source": [
    "#### postcode column"
   ]
  },
  {
   "cell_type": "code",
   "execution_count": 92,
   "metadata": {},
   "outputs": [
    {
     "name": "stdout",
     "output_type": "stream",
     "text": [
      "The postcode column has 38578 unique values\n"
     ]
    }
   ],
   "source": [
    "# Count the number of unique values in the 'postcode' column\n",
    "print(f\"The postcode column has {clean_house_df['postcode'].nunique()} unique values\")\n",
    "\n",
    "# Dropping column\n",
    "clean_house_df = clean_house_df.drop('postcode', axis=1)"
   ]
  },
  {
   "cell_type": "markdown",
   "metadata": {},
   "source": [
    "#### outcode column"
   ]
  },
  {
   "cell_type": "code",
   "execution_count": 93,
   "metadata": {},
   "outputs": [
    {
     "name": "stdout",
     "output_type": "stream",
     "text": [
      "The outcode column has 167 unique values\n"
     ]
    }
   ],
   "source": [
    "# Count the number of unique values in the 'outcode' column\n",
    "print(f\"The outcode column has {clean_house_df['outcode'].nunique()} unique values\")\n",
    "\n",
    "# Dropping column\n",
    "clean_house_df = clean_house_df.drop('outcode', axis=1)"
   ]
  },
  {
   "cell_type": "markdown",
   "metadata": {},
   "source": [
    "#### saleEstimate_confidenceLevel column\n",
    "\n",
    "This column, which offered insights into the target variable, had to be removed to maintain the integrity of the statistical models. This action prevents data leakage and overfitting, ensuring that the model generalizes effectively to unseen data."
   ]
  },
  {
   "cell_type": "code",
   "execution_count": 94,
   "metadata": {},
   "outputs": [],
   "source": [
    "# Drop the 'saleEstimate_confidenceLevel' column\n",
    "clean_house_df = clean_house_df.drop('saleEstimate_confidenceLevel', axis=1)"
   ]
  },
  {
   "cell_type": "markdown",
   "metadata": {},
   "source": [
    "## Feature Engineering"
   ]
  },
  {
   "cell_type": "markdown",
   "metadata": {},
   "source": [
    "#### tenure column\n"
   ]
  },
  {
   "cell_type": "code",
   "execution_count": 95,
   "metadata": {},
   "outputs": [
    {
     "name": "stdout",
     "output_type": "stream",
     "text": [
      "The tenure column has 4 unique values\n",
      "['Leasehold' 'Freehold' 'Feudal' 'Shared']\n"
     ]
    }
   ],
   "source": [
    "# Count the number of unique values in the 'tenure' column\n",
    "print(f\"The tenure column has {clean_house_df['tenure'].nunique()} unique values\")\n",
    "\n",
    "# Unique values in the column\n",
    "tenure_unique_values = clean_house_df['tenure'].unique()\n",
    "\n",
    "# Displaying the unique values\n",
    "print(tenure_unique_values)"
   ]
  },
  {
   "cell_type": "code",
   "execution_count": 96,
   "metadata": {},
   "outputs": [],
   "source": [
    "# Initialising OneHotEncoder\n",
    "encoder = OneHotEncoder(sparse_output=False, drop=None)  \n",
    "\n",
    "# Fit and transform the data\n",
    "tenure_encoded = encoder.fit_transform(clean_house_df[['tenure']])\n",
    "\n",
    "# Converting the result to a DataFrame\n",
    "tenure_encoded_df = pd.DataFrame(tenure_encoded, columns=encoder.get_feature_names_out(['tenure']))\n",
    "\n",
    "# Concatenating the one-hot encoded columns with the original dataframe\n",
    "clean_house_df = pd.concat([clean_house_df, tenure_encoded_df], axis=1)\n",
    "\n",
    "# Drop the original column\n",
    "clean_house_df = clean_house_df.drop('tenure', axis=1)"
   ]
  },
  {
   "cell_type": "markdown",
   "metadata": {},
   "source": [
    "#### propertyType column"
   ]
  },
  {
   "cell_type": "code",
   "execution_count": 97,
   "metadata": {},
   "outputs": [
    {
     "name": "stdout",
     "output_type": "stream",
     "text": [
      "The propertyType column has 19 unique values\n",
      "['Flat/Maisonette' 'End Terrace House' 'Mid Terrace House'\n",
      " 'Terrace Property' 'Semi-Detached House' 'Converted Flat'\n",
      " 'Purpose Built Flat' 'Detached House' 'Bungalow Property' 'Terraced'\n",
      " 'Detached Bungalow' 'Mid Terrace Property' 'Semi-Detached Bungalow'\n",
      " 'End Terrace Property' 'Terraced Bungalow' 'Mid Terrace Bungalow'\n",
      " 'Semi-Detached Property' 'Detached Property' 'End Terrace Bungalow']\n"
     ]
    }
   ],
   "source": [
    "# Count the number of unique values in the 'propertyType' column\n",
    "print(f\"The propertyType column has {clean_house_df['propertyType'].nunique()} unique values\")\n",
    "\n",
    "# Unique values in the column\n",
    "property_unique_values = clean_house_df['propertyType'].unique()\n",
    "\n",
    "# Displaying the unique values\n",
    "print(property_unique_values)"
   ]
  },
  {
   "cell_type": "code",
   "execution_count": 98,
   "metadata": {},
   "outputs": [],
   "source": [
    "# Initialising OneHotEncoder\n",
    "encoder = OneHotEncoder(sparse_output=False, drop=None)  \n",
    "\n",
    "# Fit and transform the data\n",
    "property_encoded = encoder.fit_transform(clean_house_df[['propertyType']])\n",
    "\n",
    "# Converting the result to a DataFrame\n",
    "property_encoded_df = pd.DataFrame(property_encoded, columns=encoder.get_feature_names_out(['propertyType']))\n",
    "\n",
    "# Concatenating the one-hot encoded columns with the original dataframe\n",
    "clean_house_df = pd.concat([clean_house_df, property_encoded_df], axis=1)\n",
    "\n",
    "# Drop the original column\n",
    "clean_house_df = clean_house_df.drop('propertyType', axis=1)"
   ]
  },
  {
   "cell_type": "markdown",
   "metadata": {},
   "source": [
    "#### currentEnergyRating column"
   ]
  },
  {
   "cell_type": "code",
   "execution_count": 99,
   "metadata": {},
   "outputs": [
    {
     "name": "stdout",
     "output_type": "stream",
     "text": [
      "The currentEnergyRating column has 7 unique values\n",
      "['C' 'D' 'E' 'G' 'B' 'F' 'A']\n"
     ]
    }
   ],
   "source": [
    "# Count the number of unique values in the 'currentEnergyRating' column\n",
    "print(f\"The currentEnergyRating column has {clean_house_df['currentEnergyRating'].nunique()} unique values\")\n",
    "\n",
    "# Unique values in the column\n",
    "energy_unique_values = clean_house_df['currentEnergyRating'].unique()\n",
    "\n",
    "# Displaying the unique values\n",
    "print(energy_unique_values)"
   ]
  },
  {
   "cell_type": "code",
   "execution_count": 100,
   "metadata": {},
   "outputs": [],
   "source": [
    "# Order of categories\n",
    "categories = [['A', 'B', 'C', 'D', 'E', 'F', 'G']]\n",
    "\n",
    "# Initialising encoder\n",
    "encoder = OrdinalEncoder(categories=categories)\n",
    "\n",
    "# Fit and transform the data\n",
    "energy_encoded = encoder.fit_transform(clean_house_df[['currentEnergyRating']])\n",
    "\n",
    "# Adding the encoded values to the dataframe\n",
    "clean_house_df['currentEnergyRating_encoded'] = energy_encoded\n",
    "\n",
    "# Drop the original column\n",
    "clean_house_df = clean_house_df.drop('currentEnergyRating', axis=1)"
   ]
  },
  {
   "cell_type": "markdown",
   "metadata": {},
   "source": [
    "## Pre-processed Data Review"
   ]
  },
  {
   "cell_type": "code",
   "execution_count": 101,
   "metadata": {},
   "outputs": [
    {
     "data": {
      "text/html": [
       "<div>\n",
       "<style scoped>\n",
       "    .dataframe tbody tr th:only-of-type {\n",
       "        vertical-align: middle;\n",
       "    }\n",
       "\n",
       "    .dataframe tbody tr th {\n",
       "        vertical-align: top;\n",
       "    }\n",
       "\n",
       "    .dataframe thead th {\n",
       "        text-align: right;\n",
       "    }\n",
       "</style>\n",
       "<table border=\"1\" class=\"dataframe\">\n",
       "  <thead>\n",
       "    <tr style=\"text-align: right;\">\n",
       "      <th></th>\n",
       "      <th>latitude</th>\n",
       "      <th>longitude</th>\n",
       "      <th>bathrooms</th>\n",
       "      <th>bedrooms</th>\n",
       "      <th>floorAreaSqM</th>\n",
       "      <th>livingRooms</th>\n",
       "      <th>rentEstimate_lowerPrice</th>\n",
       "      <th>rentEstimate_currentPrice</th>\n",
       "      <th>rentEstimate_upperPrice</th>\n",
       "      <th>saleEstimate_lowerPrice</th>\n",
       "      <th>...</th>\n",
       "      <th>propertyType_Mid Terrace House</th>\n",
       "      <th>propertyType_Mid Terrace Property</th>\n",
       "      <th>propertyType_Purpose Built Flat</th>\n",
       "      <th>propertyType_Semi-Detached Bungalow</th>\n",
       "      <th>propertyType_Semi-Detached House</th>\n",
       "      <th>propertyType_Semi-Detached Property</th>\n",
       "      <th>propertyType_Terrace Property</th>\n",
       "      <th>propertyType_Terraced</th>\n",
       "      <th>propertyType_Terraced Bungalow</th>\n",
       "      <th>currentEnergyRating_encoded</th>\n",
       "    </tr>\n",
       "  </thead>\n",
       "  <tbody>\n",
       "    <tr>\n",
       "      <th>0</th>\n",
       "      <td>51.495505</td>\n",
       "      <td>-0.132379</td>\n",
       "      <td>2.0</td>\n",
       "      <td>2.0</td>\n",
       "      <td>71.0</td>\n",
       "      <td>1.0</td>\n",
       "      <td>2650.0</td>\n",
       "      <td>2950.0</td>\n",
       "      <td>3250.0</td>\n",
       "      <td>683000.0</td>\n",
       "      <td>...</td>\n",
       "      <td>0.0</td>\n",
       "      <td>0.0</td>\n",
       "      <td>0.0</td>\n",
       "      <td>0.0</td>\n",
       "      <td>0.0</td>\n",
       "      <td>0.0</td>\n",
       "      <td>0.0</td>\n",
       "      <td>0.0</td>\n",
       "      <td>0.0</td>\n",
       "      <td>2.0</td>\n",
       "    </tr>\n",
       "    <tr>\n",
       "      <th>1</th>\n",
       "      <td>51.478185</td>\n",
       "      <td>-0.092201</td>\n",
       "      <td>1.0</td>\n",
       "      <td>1.0</td>\n",
       "      <td>64.0</td>\n",
       "      <td>1.0</td>\n",
       "      <td>1850.0</td>\n",
       "      <td>2000.0</td>\n",
       "      <td>2100.0</td>\n",
       "      <td>368000.0</td>\n",
       "      <td>...</td>\n",
       "      <td>0.0</td>\n",
       "      <td>0.0</td>\n",
       "      <td>0.0</td>\n",
       "      <td>0.0</td>\n",
       "      <td>0.0</td>\n",
       "      <td>0.0</td>\n",
       "      <td>0.0</td>\n",
       "      <td>0.0</td>\n",
       "      <td>0.0</td>\n",
       "      <td>3.0</td>\n",
       "    </tr>\n",
       "    <tr>\n",
       "      <th>2</th>\n",
       "      <td>51.588774</td>\n",
       "      <td>-0.139599</td>\n",
       "      <td>1.0</td>\n",
       "      <td>4.0</td>\n",
       "      <td>137.0</td>\n",
       "      <td>2.0</td>\n",
       "      <td>4350.0</td>\n",
       "      <td>4850.0</td>\n",
       "      <td>5350.0</td>\n",
       "      <td>1198000.0</td>\n",
       "      <td>...</td>\n",
       "      <td>0.0</td>\n",
       "      <td>0.0</td>\n",
       "      <td>0.0</td>\n",
       "      <td>0.0</td>\n",
       "      <td>0.0</td>\n",
       "      <td>0.0</td>\n",
       "      <td>0.0</td>\n",
       "      <td>0.0</td>\n",
       "      <td>0.0</td>\n",
       "      <td>3.0</td>\n",
       "    </tr>\n",
       "    <tr>\n",
       "      <th>3</th>\n",
       "      <td>51.466089</td>\n",
       "      <td>0.006967</td>\n",
       "      <td>1.0</td>\n",
       "      <td>2.0</td>\n",
       "      <td>97.0</td>\n",
       "      <td>1.0</td>\n",
       "      <td>3150.0</td>\n",
       "      <td>3500.0</td>\n",
       "      <td>3850.0</td>\n",
       "      <td>897000.0</td>\n",
       "      <td>...</td>\n",
       "      <td>1.0</td>\n",
       "      <td>0.0</td>\n",
       "      <td>0.0</td>\n",
       "      <td>0.0</td>\n",
       "      <td>0.0</td>\n",
       "      <td>0.0</td>\n",
       "      <td>0.0</td>\n",
       "      <td>0.0</td>\n",
       "      <td>0.0</td>\n",
       "      <td>3.0</td>\n",
       "    </tr>\n",
       "    <tr>\n",
       "      <th>4</th>\n",
       "      <td>51.451327</td>\n",
       "      <td>-0.007569</td>\n",
       "      <td>1.0</td>\n",
       "      <td>3.0</td>\n",
       "      <td>135.0</td>\n",
       "      <td>2.0</td>\n",
       "      <td>2550.0</td>\n",
       "      <td>2800.0</td>\n",
       "      <td>3050.0</td>\n",
       "      <td>690000.0</td>\n",
       "      <td>...</td>\n",
       "      <td>0.0</td>\n",
       "      <td>0.0</td>\n",
       "      <td>0.0</td>\n",
       "      <td>0.0</td>\n",
       "      <td>0.0</td>\n",
       "      <td>0.0</td>\n",
       "      <td>1.0</td>\n",
       "      <td>0.0</td>\n",
       "      <td>0.0</td>\n",
       "      <td>4.0</td>\n",
       "    </tr>\n",
       "  </tbody>\n",
       "</table>\n",
       "<p>5 rows × 39 columns</p>\n",
       "</div>"
      ],
      "text/plain": [
       "    latitude  longitude  bathrooms  bedrooms  floorAreaSqM  livingRooms  \\\n",
       "0  51.495505  -0.132379        2.0       2.0          71.0          1.0   \n",
       "1  51.478185  -0.092201        1.0       1.0          64.0          1.0   \n",
       "2  51.588774  -0.139599        1.0       4.0         137.0          2.0   \n",
       "3  51.466089   0.006967        1.0       2.0          97.0          1.0   \n",
       "4  51.451327  -0.007569        1.0       3.0         135.0          2.0   \n",
       "\n",
       "   rentEstimate_lowerPrice  rentEstimate_currentPrice  \\\n",
       "0                   2650.0                     2950.0   \n",
       "1                   1850.0                     2000.0   \n",
       "2                   4350.0                     4850.0   \n",
       "3                   3150.0                     3500.0   \n",
       "4                   2550.0                     2800.0   \n",
       "\n",
       "   rentEstimate_upperPrice  saleEstimate_lowerPrice  ...  \\\n",
       "0                   3250.0                 683000.0  ...   \n",
       "1                   2100.0                 368000.0  ...   \n",
       "2                   5350.0                1198000.0  ...   \n",
       "3                   3850.0                 897000.0  ...   \n",
       "4                   3050.0                 690000.0  ...   \n",
       "\n",
       "   propertyType_Mid Terrace House  propertyType_Mid Terrace Property  \\\n",
       "0                             0.0                                0.0   \n",
       "1                             0.0                                0.0   \n",
       "2                             0.0                                0.0   \n",
       "3                             1.0                                0.0   \n",
       "4                             0.0                                0.0   \n",
       "\n",
       "   propertyType_Purpose Built Flat  propertyType_Semi-Detached Bungalow  \\\n",
       "0                              0.0                                  0.0   \n",
       "1                              0.0                                  0.0   \n",
       "2                              0.0                                  0.0   \n",
       "3                              0.0                                  0.0   \n",
       "4                              0.0                                  0.0   \n",
       "\n",
       "   propertyType_Semi-Detached House  propertyType_Semi-Detached Property  \\\n",
       "0                               0.0                                  0.0   \n",
       "1                               0.0                                  0.0   \n",
       "2                               0.0                                  0.0   \n",
       "3                               0.0                                  0.0   \n",
       "4                               0.0                                  0.0   \n",
       "\n",
       "   propertyType_Terrace Property  propertyType_Terraced  \\\n",
       "0                            0.0                    0.0   \n",
       "1                            0.0                    0.0   \n",
       "2                            0.0                    0.0   \n",
       "3                            0.0                    0.0   \n",
       "4                            1.0                    0.0   \n",
       "\n",
       "   propertyType_Terraced Bungalow  currentEnergyRating_encoded  \n",
       "0                             0.0                          2.0  \n",
       "1                             0.0                          3.0  \n",
       "2                             0.0                          3.0  \n",
       "3                             0.0                          3.0  \n",
       "4                             0.0                          4.0  \n",
       "\n",
       "[5 rows x 39 columns]"
      ]
     },
     "execution_count": 101,
     "metadata": {},
     "output_type": "execute_result"
    }
   ],
   "source": [
    "# Viewing DataFrame post-conversions\n",
    "clean_house_df.head(5)"
   ]
  },
  {
   "cell_type": "code",
   "execution_count": 102,
   "metadata": {},
   "outputs": [
    {
     "name": "stdout",
     "output_type": "stream",
     "text": [
      "<class 'pandas.core.frame.DataFrame'>\n",
      "RangeIndex: 265911 entries, 0 to 265910\n",
      "Data columns (total 39 columns):\n",
      " #   Column                                     Non-Null Count   Dtype  \n",
      "---  ------                                     --------------   -----  \n",
      " 0   latitude                                   265911 non-null  float64\n",
      " 1   longitude                                  265911 non-null  float64\n",
      " 2   bathrooms                                  265911 non-null  float64\n",
      " 3   bedrooms                                   265911 non-null  float64\n",
      " 4   floorAreaSqM                               265911 non-null  float64\n",
      " 5   livingRooms                                265911 non-null  float64\n",
      " 6   rentEstimate_lowerPrice                    265911 non-null  float64\n",
      " 7   rentEstimate_currentPrice                  265911 non-null  float64\n",
      " 8   rentEstimate_upperPrice                    265911 non-null  float64\n",
      " 9   saleEstimate_lowerPrice                    265911 non-null  float64\n",
      " 10  saleEstimate_currentPrice                  265911 non-null  float64\n",
      " 11  saleEstimate_upperPrice                    265911 non-null  float64\n",
      " 12  saleEstimate_valueChange.numericChange     265911 non-null  float64\n",
      " 13  saleEstimate_valueChange.percentageChange  265911 non-null  float64\n",
      " 14  history_price                              265911 non-null  int64  \n",
      " 15  tenure_Feudal                              265911 non-null  float64\n",
      " 16  tenure_Freehold                            265911 non-null  float64\n",
      " 17  tenure_Leasehold                           265911 non-null  float64\n",
      " 18  tenure_Shared                              265911 non-null  float64\n",
      " 19  propertyType_Bungalow Property             265911 non-null  float64\n",
      " 20  propertyType_Converted Flat                265911 non-null  float64\n",
      " 21  propertyType_Detached Bungalow             265911 non-null  float64\n",
      " 22  propertyType_Detached House                265911 non-null  float64\n",
      " 23  propertyType_Detached Property             265911 non-null  float64\n",
      " 24  propertyType_End Terrace Bungalow          265911 non-null  float64\n",
      " 25  propertyType_End Terrace House             265911 non-null  float64\n",
      " 26  propertyType_End Terrace Property          265911 non-null  float64\n",
      " 27  propertyType_Flat/Maisonette               265911 non-null  float64\n",
      " 28  propertyType_Mid Terrace Bungalow          265911 non-null  float64\n",
      " 29  propertyType_Mid Terrace House             265911 non-null  float64\n",
      " 30  propertyType_Mid Terrace Property          265911 non-null  float64\n",
      " 31  propertyType_Purpose Built Flat            265911 non-null  float64\n",
      " 32  propertyType_Semi-Detached Bungalow        265911 non-null  float64\n",
      " 33  propertyType_Semi-Detached House           265911 non-null  float64\n",
      " 34  propertyType_Semi-Detached Property        265911 non-null  float64\n",
      " 35  propertyType_Terrace Property              265911 non-null  float64\n",
      " 36  propertyType_Terraced                      265911 non-null  float64\n",
      " 37  propertyType_Terraced Bungalow             265911 non-null  float64\n",
      " 38  currentEnergyRating_encoded                265911 non-null  float64\n",
      "dtypes: float64(38), int64(1)\n",
      "memory usage: 79.1 MB\n"
     ]
    }
   ],
   "source": [
    "# Rows and columns post encoding\n",
    "clean_house_df.info()"
   ]
  },
  {
   "cell_type": "code",
   "execution_count": 104,
   "metadata": {},
   "outputs": [],
   "source": [
    "# Saving the cleaned version of the dataset\n",
    "clean_house_df.to_csv('london_house_price_data_pp.csv', index=False)"
   ]
  }
 ],
 "metadata": {
  "kernelspec": {
   "display_name": "ml_env",
   "language": "python",
   "name": "python3"
  },
  "language_info": {
   "codemirror_mode": {
    "name": "ipython",
    "version": 3
   },
   "file_extension": ".py",
   "mimetype": "text/x-python",
   "name": "python",
   "nbconvert_exporter": "python",
   "pygments_lexer": "ipython3",
   "version": "3.11.5"
  },
  "orig_nbformat": 4
 },
 "nbformat": 4,
 "nbformat_minor": 2
}

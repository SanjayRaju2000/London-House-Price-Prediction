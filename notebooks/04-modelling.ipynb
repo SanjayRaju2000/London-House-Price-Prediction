{
 "cells": [
  {
   "cell_type": "markdown",
   "metadata": {},
   "source": [
    "# Modelling"
   ]
  },
  {
   "cell_type": "markdown",
   "metadata": {},
   "source": [
    "## Notebook Summary\n",
    "\n",
    "Linear Model Implementation"
   ]
  },
  {
   "cell_type": "markdown",
   "metadata": {},
   "source": [
    "## Notebook Setup"
   ]
  },
  {
   "cell_type": "code",
   "execution_count": 24,
   "metadata": {},
   "outputs": [],
   "source": [
    "# Standard imports\n",
    "import numpy as np\n",
    "import pandas as pd\n",
    "import matplotlib.pyplot as plt\n",
    "\n",
    "\n",
    "# Loading sklearn functionality\n",
    "from sklearn.linear_model import Lasso, Ridge, LinearRegression\n",
    "from sklearn.model_selection import train_test_split\n",
    "from sklearn.preprocessing import LabelEncoder, OneHotEncoder, OrdinalEncoder, StandardScaler, MinMaxScaler\n",
    "from sklearn.feature_selection import SelectKBest, VarianceThreshold, f_classif, f_regression\n",
    "\n",
    "# Set global random seed for reproducibility\n",
    "random_seed_val = 42\n",
    "np.random.seed(random_seed_val)"
   ]
  },
  {
   "cell_type": "markdown",
   "metadata": {},
   "source": [
    "## Data Loading & Understanding"
   ]
  },
  {
   "cell_type": "code",
   "execution_count": 25,
   "metadata": {},
   "outputs": [
    {
     "data": {
      "text/html": [
       "<div>\n",
       "<style scoped>\n",
       "    .dataframe tbody tr th:only-of-type {\n",
       "        vertical-align: middle;\n",
       "    }\n",
       "\n",
       "    .dataframe tbody tr th {\n",
       "        vertical-align: top;\n",
       "    }\n",
       "\n",
       "    .dataframe thead th {\n",
       "        text-align: right;\n",
       "    }\n",
       "</style>\n",
       "<table border=\"1\" class=\"dataframe\">\n",
       "  <thead>\n",
       "    <tr style=\"text-align: right;\">\n",
       "      <th></th>\n",
       "      <th>latitude</th>\n",
       "      <th>longitude</th>\n",
       "      <th>bathrooms</th>\n",
       "      <th>bedrooms</th>\n",
       "      <th>floorAreaSqM</th>\n",
       "      <th>livingRooms</th>\n",
       "      <th>rentEstimate_lowerPrice</th>\n",
       "      <th>rentEstimate_currentPrice</th>\n",
       "      <th>rentEstimate_upperPrice</th>\n",
       "      <th>saleEstimate_currentPrice</th>\n",
       "      <th>...</th>\n",
       "      <th>propertyType_Mid Terrace House</th>\n",
       "      <th>propertyType_Mid Terrace Property</th>\n",
       "      <th>propertyType_Purpose Built Flat</th>\n",
       "      <th>propertyType_Semi-Detached Bungalow</th>\n",
       "      <th>propertyType_Semi-Detached House</th>\n",
       "      <th>propertyType_Semi-Detached Property</th>\n",
       "      <th>propertyType_Terrace Property</th>\n",
       "      <th>propertyType_Terraced</th>\n",
       "      <th>propertyType_Terraced Bungalow</th>\n",
       "      <th>currentEnergyRating_encoded</th>\n",
       "    </tr>\n",
       "  </thead>\n",
       "  <tbody>\n",
       "    <tr>\n",
       "      <th>0</th>\n",
       "      <td>51.495505</td>\n",
       "      <td>-0.132379</td>\n",
       "      <td>2.0</td>\n",
       "      <td>2.0</td>\n",
       "      <td>71.0</td>\n",
       "      <td>1.0</td>\n",
       "      <td>2650.0</td>\n",
       "      <td>2950.0</td>\n",
       "      <td>3250.0</td>\n",
       "      <td>759000.0</td>\n",
       "      <td>...</td>\n",
       "      <td>0.0</td>\n",
       "      <td>0.0</td>\n",
       "      <td>0.0</td>\n",
       "      <td>0.0</td>\n",
       "      <td>0.0</td>\n",
       "      <td>0.0</td>\n",
       "      <td>0.0</td>\n",
       "      <td>0.0</td>\n",
       "      <td>0.0</td>\n",
       "      <td>2.0</td>\n",
       "    </tr>\n",
       "    <tr>\n",
       "      <th>1</th>\n",
       "      <td>51.478185</td>\n",
       "      <td>-0.092201</td>\n",
       "      <td>1.0</td>\n",
       "      <td>1.0</td>\n",
       "      <td>64.0</td>\n",
       "      <td>1.0</td>\n",
       "      <td>1850.0</td>\n",
       "      <td>2000.0</td>\n",
       "      <td>2100.0</td>\n",
       "      <td>388000.0</td>\n",
       "      <td>...</td>\n",
       "      <td>0.0</td>\n",
       "      <td>0.0</td>\n",
       "      <td>0.0</td>\n",
       "      <td>0.0</td>\n",
       "      <td>0.0</td>\n",
       "      <td>0.0</td>\n",
       "      <td>0.0</td>\n",
       "      <td>0.0</td>\n",
       "      <td>0.0</td>\n",
       "      <td>3.0</td>\n",
       "    </tr>\n",
       "    <tr>\n",
       "      <th>2</th>\n",
       "      <td>51.588774</td>\n",
       "      <td>-0.139599</td>\n",
       "      <td>1.0</td>\n",
       "      <td>4.0</td>\n",
       "      <td>137.0</td>\n",
       "      <td>2.0</td>\n",
       "      <td>4350.0</td>\n",
       "      <td>4850.0</td>\n",
       "      <td>5350.0</td>\n",
       "      <td>1261000.0</td>\n",
       "      <td>...</td>\n",
       "      <td>0.0</td>\n",
       "      <td>0.0</td>\n",
       "      <td>0.0</td>\n",
       "      <td>0.0</td>\n",
       "      <td>0.0</td>\n",
       "      <td>0.0</td>\n",
       "      <td>0.0</td>\n",
       "      <td>0.0</td>\n",
       "      <td>0.0</td>\n",
       "      <td>3.0</td>\n",
       "    </tr>\n",
       "    <tr>\n",
       "      <th>3</th>\n",
       "      <td>51.466089</td>\n",
       "      <td>0.006967</td>\n",
       "      <td>1.0</td>\n",
       "      <td>2.0</td>\n",
       "      <td>97.0</td>\n",
       "      <td>1.0</td>\n",
       "      <td>3150.0</td>\n",
       "      <td>3500.0</td>\n",
       "      <td>3850.0</td>\n",
       "      <td>944000.0</td>\n",
       "      <td>...</td>\n",
       "      <td>1.0</td>\n",
       "      <td>0.0</td>\n",
       "      <td>0.0</td>\n",
       "      <td>0.0</td>\n",
       "      <td>0.0</td>\n",
       "      <td>0.0</td>\n",
       "      <td>0.0</td>\n",
       "      <td>0.0</td>\n",
       "      <td>0.0</td>\n",
       "      <td>3.0</td>\n",
       "    </tr>\n",
       "    <tr>\n",
       "      <th>4</th>\n",
       "      <td>51.451327</td>\n",
       "      <td>-0.007569</td>\n",
       "      <td>1.0</td>\n",
       "      <td>3.0</td>\n",
       "      <td>135.0</td>\n",
       "      <td>2.0</td>\n",
       "      <td>2550.0</td>\n",
       "      <td>2800.0</td>\n",
       "      <td>3050.0</td>\n",
       "      <td>726000.0</td>\n",
       "      <td>...</td>\n",
       "      <td>0.0</td>\n",
       "      <td>0.0</td>\n",
       "      <td>0.0</td>\n",
       "      <td>0.0</td>\n",
       "      <td>0.0</td>\n",
       "      <td>0.0</td>\n",
       "      <td>1.0</td>\n",
       "      <td>0.0</td>\n",
       "      <td>0.0</td>\n",
       "      <td>4.0</td>\n",
       "    </tr>\n",
       "  </tbody>\n",
       "</table>\n",
       "<p>5 rows × 37 columns</p>\n",
       "</div>"
      ],
      "text/plain": [
       "    latitude  longitude  bathrooms  bedrooms  floorAreaSqM  livingRooms  \\\n",
       "0  51.495505  -0.132379        2.0       2.0          71.0          1.0   \n",
       "1  51.478185  -0.092201        1.0       1.0          64.0          1.0   \n",
       "2  51.588774  -0.139599        1.0       4.0         137.0          2.0   \n",
       "3  51.466089   0.006967        1.0       2.0          97.0          1.0   \n",
       "4  51.451327  -0.007569        1.0       3.0         135.0          2.0   \n",
       "\n",
       "   rentEstimate_lowerPrice  rentEstimate_currentPrice  \\\n",
       "0                   2650.0                     2950.0   \n",
       "1                   1850.0                     2000.0   \n",
       "2                   4350.0                     4850.0   \n",
       "3                   3150.0                     3500.0   \n",
       "4                   2550.0                     2800.0   \n",
       "\n",
       "   rentEstimate_upperPrice  saleEstimate_currentPrice  ...  \\\n",
       "0                   3250.0                   759000.0  ...   \n",
       "1                   2100.0                   388000.0  ...   \n",
       "2                   5350.0                  1261000.0  ...   \n",
       "3                   3850.0                   944000.0  ...   \n",
       "4                   3050.0                   726000.0  ...   \n",
       "\n",
       "   propertyType_Mid Terrace House  propertyType_Mid Terrace Property  \\\n",
       "0                             0.0                                0.0   \n",
       "1                             0.0                                0.0   \n",
       "2                             0.0                                0.0   \n",
       "3                             1.0                                0.0   \n",
       "4                             0.0                                0.0   \n",
       "\n",
       "   propertyType_Purpose Built Flat  propertyType_Semi-Detached Bungalow  \\\n",
       "0                              0.0                                  0.0   \n",
       "1                              0.0                                  0.0   \n",
       "2                              0.0                                  0.0   \n",
       "3                              0.0                                  0.0   \n",
       "4                              0.0                                  0.0   \n",
       "\n",
       "   propertyType_Semi-Detached House  propertyType_Semi-Detached Property  \\\n",
       "0                               0.0                                  0.0   \n",
       "1                               0.0                                  0.0   \n",
       "2                               0.0                                  0.0   \n",
       "3                               0.0                                  0.0   \n",
       "4                               0.0                                  0.0   \n",
       "\n",
       "   propertyType_Terrace Property  propertyType_Terraced  \\\n",
       "0                            0.0                    0.0   \n",
       "1                            0.0                    0.0   \n",
       "2                            0.0                    0.0   \n",
       "3                            0.0                    0.0   \n",
       "4                            1.0                    0.0   \n",
       "\n",
       "   propertyType_Terraced Bungalow  currentEnergyRating_encoded  \n",
       "0                             0.0                          2.0  \n",
       "1                             0.0                          3.0  \n",
       "2                             0.0                          3.0  \n",
       "3                             0.0                          3.0  \n",
       "4                             0.0                          4.0  \n",
       "\n",
       "[5 rows x 37 columns]"
      ]
     },
     "execution_count": 25,
     "metadata": {},
     "output_type": "execute_result"
    }
   ],
   "source": [
    "# Creating DataFrame\n",
    "pp_house_df = pd.read_csv(\"london_house_price_data_pp.csv\")\n",
    "# Viewing DataFrame\n",
    "pp_house_df.head(5)"
   ]
  },
  {
   "cell_type": "code",
   "execution_count": 26,
   "metadata": {},
   "outputs": [
    {
     "name": "stdout",
     "output_type": "stream",
     "text": [
      "<class 'pandas.core.frame.DataFrame'>\n",
      "RangeIndex: 265911 entries, 0 to 265910\n",
      "Data columns (total 37 columns):\n",
      " #   Column                                     Non-Null Count   Dtype  \n",
      "---  ------                                     --------------   -----  \n",
      " 0   latitude                                   265911 non-null  float64\n",
      " 1   longitude                                  265911 non-null  float64\n",
      " 2   bathrooms                                  265911 non-null  float64\n",
      " 3   bedrooms                                   265911 non-null  float64\n",
      " 4   floorAreaSqM                               265911 non-null  float64\n",
      " 5   livingRooms                                265911 non-null  float64\n",
      " 6   rentEstimate_lowerPrice                    265911 non-null  float64\n",
      " 7   rentEstimate_currentPrice                  265911 non-null  float64\n",
      " 8   rentEstimate_upperPrice                    265911 non-null  float64\n",
      " 9   saleEstimate_currentPrice                  265911 non-null  float64\n",
      " 10  saleEstimate_valueChange.numericChange     265911 non-null  float64\n",
      " 11  saleEstimate_valueChange.percentageChange  265911 non-null  float64\n",
      " 12  history_price                              265911 non-null  int64  \n",
      " 13  tenure_Feudal                              265911 non-null  float64\n",
      " 14  tenure_Freehold                            265911 non-null  float64\n",
      " 15  tenure_Leasehold                           265911 non-null  float64\n",
      " 16  tenure_Shared                              265911 non-null  float64\n",
      " 17  propertyType_Bungalow Property             265911 non-null  float64\n",
      " 18  propertyType_Converted Flat                265911 non-null  float64\n",
      " 19  propertyType_Detached Bungalow             265911 non-null  float64\n",
      " 20  propertyType_Detached House                265911 non-null  float64\n",
      " 21  propertyType_Detached Property             265911 non-null  float64\n",
      " 22  propertyType_End Terrace Bungalow          265911 non-null  float64\n",
      " 23  propertyType_End Terrace House             265911 non-null  float64\n",
      " 24  propertyType_End Terrace Property          265911 non-null  float64\n",
      " 25  propertyType_Flat/Maisonette               265911 non-null  float64\n",
      " 26  propertyType_Mid Terrace Bungalow          265911 non-null  float64\n",
      " 27  propertyType_Mid Terrace House             265911 non-null  float64\n",
      " 28  propertyType_Mid Terrace Property          265911 non-null  float64\n",
      " 29  propertyType_Purpose Built Flat            265911 non-null  float64\n",
      " 30  propertyType_Semi-Detached Bungalow        265911 non-null  float64\n",
      " 31  propertyType_Semi-Detached House           265911 non-null  float64\n",
      " 32  propertyType_Semi-Detached Property        265911 non-null  float64\n",
      " 33  propertyType_Terrace Property              265911 non-null  float64\n",
      " 34  propertyType_Terraced                      265911 non-null  float64\n",
      " 35  propertyType_Terraced Bungalow             265911 non-null  float64\n",
      " 36  currentEnergyRating_encoded                265911 non-null  float64\n",
      "dtypes: float64(36), int64(1)\n",
      "memory usage: 75.1 MB\n"
     ]
    }
   ],
   "source": [
    "# Columns and data types\n",
    "pp_house_df.info()"
   ]
  },
  {
   "cell_type": "code",
   "execution_count": 27,
   "metadata": {},
   "outputs": [
    {
     "data": {
      "text/plain": [
       "(265911, 37)"
      ]
     },
     "execution_count": 27,
     "metadata": {},
     "output_type": "execute_result"
    }
   ],
   "source": [
    "pp_house_df.shape"
   ]
  },
  {
   "cell_type": "markdown",
   "metadata": {},
   "source": [
    "## Preparing Data"
   ]
  },
  {
   "cell_type": "code",
   "execution_count": 28,
   "metadata": {},
   "outputs": [],
   "source": [
    "# Seperating features from target\n",
    "X = pp_house_df.drop('saleEstimate_currentPrice', axis=1)\n",
    "y = pp_house_df['saleEstimate_currentPrice']"
   ]
  },
  {
   "cell_type": "code",
   "execution_count": 29,
   "metadata": {},
   "outputs": [
    {
     "name": "stdout",
     "output_type": "stream",
     "text": [
      "Training set size: 170182\n",
      "Validation set size: 42546\n",
      "Test set size: 53183\n"
     ]
    }
   ],
   "source": [
    "# Remainder test split\n",
    "X_remainder, X_test, y_remainder, y_test = train_test_split(X, y, test_size=0.20, random_state=random_seed_val)\n",
    "\n",
    "# Train validation split\n",
    "X_train, X_valid, y_train, y_valid = train_test_split(X_remainder, y_remainder, test_size=0.20, random_state=random_seed_val)\n",
    "\n",
    "# Checking size of split\n",
    "print(f\"Training set size: {len(X_train)}\")\n",
    "print(f\"Validation set size: {len(X_valid)}\") \n",
    "print(f\"Test set size: {len(X_test)}\")"
   ]
  },
  {
   "cell_type": "markdown",
   "metadata": {},
   "source": [
    "## Modelling"
   ]
  },
  {
   "cell_type": "markdown",
   "metadata": {},
   "source": [
    "### Linear Regression \n",
    "\n",
    "The performance of this simple linear model will be used as a baseline for future linear models for comparison. Default parameters used, no tuning required."
   ]
  },
  {
   "cell_type": "code",
   "execution_count": 30,
   "metadata": {},
   "outputs": [
    {
     "name": "stdout",
     "output_type": "stream",
     "text": [
      "R^2 value for the training set is 0.9936177467987773 and R^2 value for the validation set is 0.9938623405243856\n"
     ]
    }
   ],
   "source": [
    "# Defining model\n",
    "lin_reg_model = LinearRegression()\n",
    "\n",
    "# Fitting model\n",
    "lin_reg_model.fit(X_train, y_train)\n",
    "\n",
    "# Scoring on train\n",
    "train_score = lin_reg_model.score(X_train, y_train)\n",
    "\n",
    "# Scoring on validation\n",
    "valid_score = lin_reg_model.score(X_valid, y_valid)\n",
    "\n",
    "# Print performance\n",
    "print(f\"R^2 value for the training set is {train_score} and R^2 value for the validation set is {valid_score}\")\n"
   ]
  },
  {
   "cell_type": "markdown",
   "metadata": {},
   "source": [
    "## Ridge Regression\n",
    "\n",
    "Implementing Ridge regression with varying values for alpha, to tune hyperparameter. Examining which values of alpha show the best performance on the model."
   ]
  },
  {
   "cell_type": "code",
   "execution_count": 31,
   "metadata": {},
   "outputs": [
    {
     "name": "stderr",
     "output_type": "stream",
     "text": [
      "c:\\Users\\sanja\\anaconda3\\envs\\ml_env\\Lib\\site-packages\\sklearn\\linear_model\\_ridge.py:211: LinAlgWarning: Ill-conditioned matrix (rcond=7.73933e-21): result may not be accurate.\n",
      "  return linalg.solve(A, Xy, assume_a=\"pos\", overwrite_a=True).T\n",
      "c:\\Users\\sanja\\anaconda3\\envs\\ml_env\\Lib\\site-packages\\sklearn\\linear_model\\_ridge.py:211: LinAlgWarning: Ill-conditioned matrix (rcond=7.73931e-20): result may not be accurate.\n",
      "  return linalg.solve(A, Xy, assume_a=\"pos\", overwrite_a=True).T\n",
      "c:\\Users\\sanja\\anaconda3\\envs\\ml_env\\Lib\\site-packages\\sklearn\\linear_model\\_ridge.py:211: LinAlgWarning: Ill-conditioned matrix (rcond=7.73916e-19): result may not be accurate.\n",
      "  return linalg.solve(A, Xy, assume_a=\"pos\", overwrite_a=True).T\n",
      "c:\\Users\\sanja\\anaconda3\\envs\\ml_env\\Lib\\site-packages\\sklearn\\linear_model\\_ridge.py:211: LinAlgWarning: Ill-conditioned matrix (rcond=7.73767e-18): result may not be accurate.\n",
      "  return linalg.solve(A, Xy, assume_a=\"pos\", overwrite_a=True).T\n",
      "c:\\Users\\sanja\\anaconda3\\envs\\ml_env\\Lib\\site-packages\\sklearn\\linear_model\\_ridge.py:211: LinAlgWarning: Ill-conditioned matrix (rcond=7.70763e-17): result may not be accurate.\n",
      "  return linalg.solve(A, Xy, assume_a=\"pos\", overwrite_a=True).T\n"
     ]
    }
   ],
   "source": [
    "alpha_values = [0.001, 0.01, 0.1, 1.0, 10.0, 100.0]\n",
    "ridge_train_score = []\n",
    "ridge_valid_score = []\n",
    "\n",
    "for alpha in alpha_values:\n",
    "    # Instantiate model with alpha value\n",
    "    ridge_model = Ridge(alpha=alpha)\n",
    "\n",
    "    # Fit model\n",
    "    ridge_model.fit(X_train, y_train)\n",
    "\n",
    "    # Scores\n",
    "    train_score_val = ridge_model.score(X_train, y_train)\n",
    "    valid_score_val = ridge_model.score(X_valid, y_valid)\n",
    "\n",
    "    # Storing\n",
    "    ridge_train_score.append(train_score_val)\n",
    "    ridge_valid_score.append(valid_score_val)\n",
    "\n"
   ]
  },
  {
   "cell_type": "code",
   "execution_count": 32,
   "metadata": {},
   "outputs": [
    {
     "name": "stdout",
     "output_type": "stream",
     "text": [
      "[0.9938623404723221, 0.9938623400028634, 0.9938623352949851, 0.993862287037255, 0.9938617602028159, 0.9938571398227714]\n"
     ]
    }
   ],
   "source": [
    "print(ridge_valid_score)"
   ]
  },
  {
   "cell_type": "code",
   "execution_count": 33,
   "metadata": {},
   "outputs": [
    {
     "data": {
      "image/png": "[encoded data removed]",
      "text/plain": [
       "<Figure size 1000x600 with 1 Axes>"
      ]
     },
     "metadata": {},
     "output_type": "display_data"
    }
   ],
   "source": [
    "# Plotting scores against alpha\n",
    "\n",
    "# Creating scatter plot with two lines\n",
    "plt.figure(figsize=(10, 6))\n",
    "plt.scatter(alpha_values, ridge_train_score, color='blue', label='Training Score')\n",
    "plt.scatter(alpha_values, ridge_valid_score, color='red', label='Validation Score')\n",
    "plt.plot(alpha_values, ridge_train_score, color='blue')\n",
    "plt.plot(alpha_values, ridge_valid_score, color='red')\n",
    "\n",
    "# Logarithmic scale for the x-axis\n",
    "plt.xscale('log')\n",
    "\n",
    "# Labels and Title\n",
    "plt.xlabel('Alpha Value')\n",
    "plt.ylabel('R^2 Value')\n",
    "plt.title('Training and Validation Scores by Alpha Values')\n",
    "plt.legend()\n",
    "\n",
    "# Show plot\n",
    "plt.show()\n"
   ]
  },
  {
   "cell_type": "code",
   "execution_count": null,
   "metadata": {},
   "outputs": [],
   "source": []
  }
 ],
 "metadata": {
  "kernelspec": {
   "display_name": "ml_env",
   "language": "python",
   "name": "python3"
  },
  "language_info": {
   "codemirror_mode": {
    "name": "ipython",
    "version": 3
   },
   "file_extension": ".py",
   "mimetype": "text/x-python",
   "name": "python",
   "nbconvert_exporter": "python",
   "pygments_lexer": "ipython3",
   "version": "3.11.5"
  },
  "orig_nbformat": 4
 },
 "nbformat": 4,
 "nbformat_minor": 2
}
